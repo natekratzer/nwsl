{
 "cells": [
  {
   "cell_type": "code",
   "execution_count": 6,
   "metadata": {},
   "outputs": [],
   "source": [
    "import numpy as np\n",
    "import pandas as pd\n",
    "import altair as alt\n",
    "import plotly.express as px\n",
    "import plotly.graph_objects as go"
   ]
  },
  {
   "cell_type": "code",
   "execution_count": 2,
   "metadata": {},
   "outputs": [],
   "source": [
    "df = pd.read_csv(\"data/team/2021_season_ovr.csv\")\n",
    "df['goals_scored_per_match'] = df['GF']/df['MP']\n",
    "df['goals_allowed_per_match'] = df['GA']/df['MP']\n",
    "\n",
    "df['mean']= df['GF'].mean()/24 # the same for both GF and GA by definition as it's total goals scored/2\n"
   ]
  },
  {
   "cell_type": "code",
   "execution_count": 48,
   "metadata": {},
   "outputs": [
    {
     "data": {
      "application/vnd.plotly.v1+json": {
       "config": {
        "plotlyServerURL": "https://plot.ly"
       },
       "data": [
        {
         "hovertemplate": "Scored=%{x}<br>Allowed=%{y}<br>Abbr=%{text}<extra></extra>",
         "legendgroup": "",
         "marker": {
          "color": "#1F77B4",
          "symbol": "circle"
         },
         "mode": "markers+text",
         "name": "",
         "orientation": "v",
         "showlegend": false,
         "text": [
          "POR",
          "SEA",
          "WAS",
          "CHI",
          "NYNJ",
          "NC",
          "HOU",
          "ORL",
          "LOU",
          "KC"
         ],
         "textposition": "top center",
         "type": "scatter",
         "x": [
          1.375,
          1.5416666666666667,
          1.2083333333333333,
          1.1666666666666667,
          1.2083333333333333,
          1.1666666666666667,
          1.2916666666666667,
          1.125,
          0.875,
          0.625
         ],
         "xaxis": "x",
         "y": [
          0.7083333333333334,
          1,
          1.0833333333333333,
          1.1666666666666667,
          0.875,
          0.9583333333333334,
          1.2916666666666667,
          1.3333333333333333,
          1.6666666666666667,
          1.5
         ],
         "yaxis": "y"
        }
       ],
       "layout": {
        "annotations": [
         {
          "showarrow": false,
          "text": "Data from fbref.com",
          "x": 1.6,
          "y": 0.63
         }
        ],
        "height": 500,
        "legend": {
         "tracegroupgap": 0
        },
        "shapes": [
         {
          "line": {
           "color": "grey",
           "dash": "dash",
           "width": 2
          },
          "opacity": 1,
          "type": "line",
          "x0": 0,
          "x1": 1,
          "xref": "x domain",
          "y0": 1.15,
          "y1": 1.15,
          "yref": "y"
         },
         {
          "line": {
           "color": "grey",
           "dash": "dash",
           "width": 2
          },
          "opacity": 1,
          "type": "line",
          "x0": 1.15,
          "x1": 1.15,
          "xref": "x",
          "y0": 0,
          "y1": 1,
          "yref": "y domain"
         }
        ],
        "template": {
         "data": {
          "bar": [
           {
            "error_x": {
             "color": "rgb(36,36,36)"
            },
            "error_y": {
             "color": "rgb(36,36,36)"
            },
            "marker": {
             "line": {
              "color": "white",
              "width": 0.5
             },
             "pattern": {
              "fillmode": "overlay",
              "size": 10,
              "solidity": 0.2
             }
            },
            "type": "bar"
           }
          ],
          "barpolar": [
           {
            "marker": {
             "line": {
              "color": "white",
              "width": 0.5
             },
             "pattern": {
              "fillmode": "overlay",
              "size": 10,
              "solidity": 0.2
             }
            },
            "type": "barpolar"
           }
          ],
          "carpet": [
           {
            "aaxis": {
             "endlinecolor": "rgb(36,36,36)",
             "gridcolor": "white",
             "linecolor": "white",
             "minorgridcolor": "white",
             "startlinecolor": "rgb(36,36,36)"
            },
            "baxis": {
             "endlinecolor": "rgb(36,36,36)",
             "gridcolor": "white",
             "linecolor": "white",
             "minorgridcolor": "white",
             "startlinecolor": "rgb(36,36,36)"
            },
            "type": "carpet"
           }
          ],
          "choropleth": [
           {
            "colorbar": {
             "outlinewidth": 1,
             "tickcolor": "rgb(36,36,36)",
             "ticks": "outside"
            },
            "type": "choropleth"
           }
          ],
          "contour": [
           {
            "colorbar": {
             "outlinewidth": 1,
             "tickcolor": "rgb(36,36,36)",
             "ticks": "outside"
            },
            "colorscale": [
             [
              0,
              "#440154"
             ],
             [
              0.1111111111111111,
              "#482878"
             ],
             [
              0.2222222222222222,
              "#3e4989"
             ],
             [
              0.3333333333333333,
              "#31688e"
             ],
             [
              0.4444444444444444,
              "#26828e"
             ],
             [
              0.5555555555555556,
              "#1f9e89"
             ],
             [
              0.6666666666666666,
              "#35b779"
             ],
             [
              0.7777777777777778,
              "#6ece58"
             ],
             [
              0.8888888888888888,
              "#b5de2b"
             ],
             [
              1,
              "#fde725"
             ]
            ],
            "type": "contour"
           }
          ],
          "contourcarpet": [
           {
            "colorbar": {
             "outlinewidth": 1,
             "tickcolor": "rgb(36,36,36)",
             "ticks": "outside"
            },
            "type": "contourcarpet"
           }
          ],
          "heatmap": [
           {
            "colorbar": {
             "outlinewidth": 1,
             "tickcolor": "rgb(36,36,36)",
             "ticks": "outside"
            },
            "colorscale": [
             [
              0,
              "#440154"
             ],
             [
              0.1111111111111111,
              "#482878"
             ],
             [
              0.2222222222222222,
              "#3e4989"
             ],
             [
              0.3333333333333333,
              "#31688e"
             ],
             [
              0.4444444444444444,
              "#26828e"
             ],
             [
              0.5555555555555556,
              "#1f9e89"
             ],
             [
              0.6666666666666666,
              "#35b779"
             ],
             [
              0.7777777777777778,
              "#6ece58"
             ],
             [
              0.8888888888888888,
              "#b5de2b"
             ],
             [
              1,
              "#fde725"
             ]
            ],
            "type": "heatmap"
           }
          ],
          "heatmapgl": [
           {
            "colorbar": {
             "outlinewidth": 1,
             "tickcolor": "rgb(36,36,36)",
             "ticks": "outside"
            },
            "colorscale": [
             [
              0,
              "#440154"
             ],
             [
              0.1111111111111111,
              "#482878"
             ],
             [
              0.2222222222222222,
              "#3e4989"
             ],
             [
              0.3333333333333333,
              "#31688e"
             ],
             [
              0.4444444444444444,
              "#26828e"
             ],
             [
              0.5555555555555556,
              "#1f9e89"
             ],
             [
              0.6666666666666666,
              "#35b779"
             ],
             [
              0.7777777777777778,
              "#6ece58"
             ],
             [
              0.8888888888888888,
              "#b5de2b"
             ],
             [
              1,
              "#fde725"
             ]
            ],
            "type": "heatmapgl"
           }
          ],
          "histogram": [
           {
            "marker": {
             "line": {
              "color": "white",
              "width": 0.6
             }
            },
            "type": "histogram"
           }
          ],
          "histogram2d": [
           {
            "colorbar": {
             "outlinewidth": 1,
             "tickcolor": "rgb(36,36,36)",
             "ticks": "outside"
            },
            "colorscale": [
             [
              0,
              "#440154"
             ],
             [
              0.1111111111111111,
              "#482878"
             ],
             [
              0.2222222222222222,
              "#3e4989"
             ],
             [
              0.3333333333333333,
              "#31688e"
             ],
             [
              0.4444444444444444,
              "#26828e"
             ],
             [
              0.5555555555555556,
              "#1f9e89"
             ],
             [
              0.6666666666666666,
              "#35b779"
             ],
             [
              0.7777777777777778,
              "#6ece58"
             ],
             [
              0.8888888888888888,
              "#b5de2b"
             ],
             [
              1,
              "#fde725"
             ]
            ],
            "type": "histogram2d"
           }
          ],
          "histogram2dcontour": [
           {
            "colorbar": {
             "outlinewidth": 1,
             "tickcolor": "rgb(36,36,36)",
             "ticks": "outside"
            },
            "colorscale": [
             [
              0,
              "#440154"
             ],
             [
              0.1111111111111111,
              "#482878"
             ],
             [
              0.2222222222222222,
              "#3e4989"
             ],
             [
              0.3333333333333333,
              "#31688e"
             ],
             [
              0.4444444444444444,
              "#26828e"
             ],
             [
              0.5555555555555556,
              "#1f9e89"
             ],
             [
              0.6666666666666666,
              "#35b779"
             ],
             [
              0.7777777777777778,
              "#6ece58"
             ],
             [
              0.8888888888888888,
              "#b5de2b"
             ],
             [
              1,
              "#fde725"
             ]
            ],
            "type": "histogram2dcontour"
           }
          ],
          "mesh3d": [
           {
            "colorbar": {
             "outlinewidth": 1,
             "tickcolor": "rgb(36,36,36)",
             "ticks": "outside"
            },
            "type": "mesh3d"
           }
          ],
          "parcoords": [
           {
            "line": {
             "colorbar": {
              "outlinewidth": 1,
              "tickcolor": "rgb(36,36,36)",
              "ticks": "outside"
             }
            },
            "type": "parcoords"
           }
          ],
          "pie": [
           {
            "automargin": true,
            "type": "pie"
           }
          ],
          "scatter": [
           {
            "marker": {
             "colorbar": {
              "outlinewidth": 1,
              "tickcolor": "rgb(36,36,36)",
              "ticks": "outside"
             }
            },
            "type": "scatter"
           }
          ],
          "scatter3d": [
           {
            "line": {
             "colorbar": {
              "outlinewidth": 1,
              "tickcolor": "rgb(36,36,36)",
              "ticks": "outside"
             }
            },
            "marker": {
             "colorbar": {
              "outlinewidth": 1,
              "tickcolor": "rgb(36,36,36)",
              "ticks": "outside"
             }
            },
            "type": "scatter3d"
           }
          ],
          "scattercarpet": [
           {
            "marker": {
             "colorbar": {
              "outlinewidth": 1,
              "tickcolor": "rgb(36,36,36)",
              "ticks": "outside"
             }
            },
            "type": "scattercarpet"
           }
          ],
          "scattergeo": [
           {
            "marker": {
             "colorbar": {
              "outlinewidth": 1,
              "tickcolor": "rgb(36,36,36)",
              "ticks": "outside"
             }
            },
            "type": "scattergeo"
           }
          ],
          "scattergl": [
           {
            "marker": {
             "colorbar": {
              "outlinewidth": 1,
              "tickcolor": "rgb(36,36,36)",
              "ticks": "outside"
             }
            },
            "type": "scattergl"
           }
          ],
          "scattermapbox": [
           {
            "marker": {
             "colorbar": {
              "outlinewidth": 1,
              "tickcolor": "rgb(36,36,36)",
              "ticks": "outside"
             }
            },
            "type": "scattermapbox"
           }
          ],
          "scatterpolar": [
           {
            "marker": {
             "colorbar": {
              "outlinewidth": 1,
              "tickcolor": "rgb(36,36,36)",
              "ticks": "outside"
             }
            },
            "type": "scatterpolar"
           }
          ],
          "scatterpolargl": [
           {
            "marker": {
             "colorbar": {
              "outlinewidth": 1,
              "tickcolor": "rgb(36,36,36)",
              "ticks": "outside"
             }
            },
            "type": "scatterpolargl"
           }
          ],
          "scatterternary": [
           {
            "marker": {
             "colorbar": {
              "outlinewidth": 1,
              "tickcolor": "rgb(36,36,36)",
              "ticks": "outside"
             }
            },
            "type": "scatterternary"
           }
          ],
          "surface": [
           {
            "colorbar": {
             "outlinewidth": 1,
             "tickcolor": "rgb(36,36,36)",
             "ticks": "outside"
            },
            "colorscale": [
             [
              0,
              "#440154"
             ],
             [
              0.1111111111111111,
              "#482878"
             ],
             [
              0.2222222222222222,
              "#3e4989"
             ],
             [
              0.3333333333333333,
              "#31688e"
             ],
             [
              0.4444444444444444,
              "#26828e"
             ],
             [
              0.5555555555555556,
              "#1f9e89"
             ],
             [
              0.6666666666666666,
              "#35b779"
             ],
             [
              0.7777777777777778,
              "#6ece58"
             ],
             [
              0.8888888888888888,
              "#b5de2b"
             ],
             [
              1,
              "#fde725"
             ]
            ],
            "type": "surface"
           }
          ],
          "table": [
           {
            "cells": {
             "fill": {
              "color": "rgb(237,237,237)"
             },
             "line": {
              "color": "white"
             }
            },
            "header": {
             "fill": {
              "color": "rgb(217,217,217)"
             },
             "line": {
              "color": "white"
             }
            },
            "type": "table"
           }
          ]
         },
         "layout": {
          "annotationdefaults": {
           "arrowhead": 0,
           "arrowwidth": 1
          },
          "autotypenumbers": "strict",
          "coloraxis": {
           "colorbar": {
            "outlinewidth": 1,
            "tickcolor": "rgb(36,36,36)",
            "ticks": "outside"
           }
          },
          "colorscale": {
           "diverging": [
            [
             0,
             "rgb(103,0,31)"
            ],
            [
             0.1,
             "rgb(178,24,43)"
            ],
            [
             0.2,
             "rgb(214,96,77)"
            ],
            [
             0.3,
             "rgb(244,165,130)"
            ],
            [
             0.4,
             "rgb(253,219,199)"
            ],
            [
             0.5,
             "rgb(247,247,247)"
            ],
            [
             0.6,
             "rgb(209,229,240)"
            ],
            [
             0.7,
             "rgb(146,197,222)"
            ],
            [
             0.8,
             "rgb(67,147,195)"
            ],
            [
             0.9,
             "rgb(33,102,172)"
            ],
            [
             1,
             "rgb(5,48,97)"
            ]
           ],
           "sequential": [
            [
             0,
             "#440154"
            ],
            [
             0.1111111111111111,
             "#482878"
            ],
            [
             0.2222222222222222,
             "#3e4989"
            ],
            [
             0.3333333333333333,
             "#31688e"
            ],
            [
             0.4444444444444444,
             "#26828e"
            ],
            [
             0.5555555555555556,
             "#1f9e89"
            ],
            [
             0.6666666666666666,
             "#35b779"
            ],
            [
             0.7777777777777778,
             "#6ece58"
            ],
            [
             0.8888888888888888,
             "#b5de2b"
            ],
            [
             1,
             "#fde725"
            ]
           ],
           "sequentialminus": [
            [
             0,
             "#440154"
            ],
            [
             0.1111111111111111,
             "#482878"
            ],
            [
             0.2222222222222222,
             "#3e4989"
            ],
            [
             0.3333333333333333,
             "#31688e"
            ],
            [
             0.4444444444444444,
             "#26828e"
            ],
            [
             0.5555555555555556,
             "#1f9e89"
            ],
            [
             0.6666666666666666,
             "#35b779"
            ],
            [
             0.7777777777777778,
             "#6ece58"
            ],
            [
             0.8888888888888888,
             "#b5de2b"
            ],
            [
             1,
             "#fde725"
            ]
           ]
          },
          "colorway": [
           "#1F77B4",
           "#FF7F0E",
           "#2CA02C",
           "#D62728",
           "#9467BD",
           "#8C564B",
           "#E377C2",
           "#7F7F7F",
           "#BCBD22",
           "#17BECF"
          ],
          "font": {
           "color": "rgb(36,36,36)"
          },
          "geo": {
           "bgcolor": "white",
           "lakecolor": "white",
           "landcolor": "white",
           "showlakes": true,
           "showland": true,
           "subunitcolor": "white"
          },
          "hoverlabel": {
           "align": "left"
          },
          "hovermode": "closest",
          "mapbox": {
           "style": "light"
          },
          "paper_bgcolor": "white",
          "plot_bgcolor": "white",
          "polar": {
           "angularaxis": {
            "gridcolor": "rgb(232,232,232)",
            "linecolor": "rgb(36,36,36)",
            "showgrid": false,
            "showline": true,
            "ticks": "outside"
           },
           "bgcolor": "white",
           "radialaxis": {
            "gridcolor": "rgb(232,232,232)",
            "linecolor": "rgb(36,36,36)",
            "showgrid": false,
            "showline": true,
            "ticks": "outside"
           }
          },
          "scene": {
           "xaxis": {
            "backgroundcolor": "white",
            "gridcolor": "rgb(232,232,232)",
            "gridwidth": 2,
            "linecolor": "rgb(36,36,36)",
            "showbackground": true,
            "showgrid": false,
            "showline": true,
            "ticks": "outside",
            "zeroline": false,
            "zerolinecolor": "rgb(36,36,36)"
           },
           "yaxis": {
            "backgroundcolor": "white",
            "gridcolor": "rgb(232,232,232)",
            "gridwidth": 2,
            "linecolor": "rgb(36,36,36)",
            "showbackground": true,
            "showgrid": false,
            "showline": true,
            "ticks": "outside",
            "zeroline": false,
            "zerolinecolor": "rgb(36,36,36)"
           },
           "zaxis": {
            "backgroundcolor": "white",
            "gridcolor": "rgb(232,232,232)",
            "gridwidth": 2,
            "linecolor": "rgb(36,36,36)",
            "showbackground": true,
            "showgrid": false,
            "showline": true,
            "ticks": "outside",
            "zeroline": false,
            "zerolinecolor": "rgb(36,36,36)"
           }
          },
          "shapedefaults": {
           "fillcolor": "black",
           "line": {
            "width": 0
           },
           "opacity": 0.3
          },
          "ternary": {
           "aaxis": {
            "gridcolor": "rgb(232,232,232)",
            "linecolor": "rgb(36,36,36)",
            "showgrid": false,
            "showline": true,
            "ticks": "outside"
           },
           "baxis": {
            "gridcolor": "rgb(232,232,232)",
            "linecolor": "rgb(36,36,36)",
            "showgrid": false,
            "showline": true,
            "ticks": "outside"
           },
           "bgcolor": "white",
           "caxis": {
            "gridcolor": "rgb(232,232,232)",
            "linecolor": "rgb(36,36,36)",
            "showgrid": false,
            "showline": true,
            "ticks": "outside"
           }
          },
          "title": {
           "x": 0.05
          },
          "xaxis": {
           "automargin": true,
           "gridcolor": "rgb(232,232,232)",
           "linecolor": "rgb(36,36,36)",
           "showgrid": false,
           "showline": true,
           "ticks": "outside",
           "title": {
            "standoff": 15
           },
           "zeroline": false,
           "zerolinecolor": "rgb(36,36,36)"
          },
          "yaxis": {
           "automargin": true,
           "gridcolor": "rgb(232,232,232)",
           "linecolor": "rgb(36,36,36)",
           "showgrid": false,
           "showline": true,
           "ticks": "outside",
           "title": {
            "standoff": 15
           },
           "zeroline": false,
           "zerolinecolor": "rgb(36,36,36)"
          }
         }
        },
        "title": {
         "text": "NWSL Goals Per Match, 2021"
        },
        "width": 500,
        "xaxis": {
         "anchor": "y",
         "domain": [
          0,
          1
         ],
         "nticks": 7,
         "range": [
          0.6,
          1.8
         ],
         "title": {
          "text": "Scored"
         }
        },
        "yaxis": {
         "anchor": "x",
         "domain": [
          0,
          1
         ],
         "nticks": 7,
         "range": [
          0.6,
          1.8
         ],
         "scaleanchor": "x",
         "scaleratio": 1,
         "title": {
          "text": "Allowed"
         }
        }
       }
      }
     },
     "metadata": {},
     "output_type": "display_data"
    }
   ],
   "source": [
    "fig = px.scatter(df, \n",
    "                 x=\"goals_scored_per_match\", \n",
    "                 y = \"goals_allowed_per_match\",\n",
    "                 labels = dict(goals_scored_per_match = \"Scored\", goals_allowed_per_match = \"Allowed\"),\n",
    "                 template = 'simple_white',\n",
    "                 title = \"NWSL Goals Per Match, 2021\",\n",
    "                 text = 'Abbr',\n",
    "                 width = 500,\n",
    "                 height = 500\n",
    "                 )\n",
    "\n",
    "fig.update_traces(textposition = 'top center')\n",
    "fig.update_xaxes(range = [0.6, 1.8], nticks = 7)\n",
    "fig.update_yaxes(range = [0.6, 1.8], nticks = 7,\n",
    "                 scaleanchor = \"x\",\n",
    "                 scaleratio = 1)\n",
    "\n",
    "fig.add_hline(y = 1.15, opacity = 1, line_width = 2, line_dash = 'dash', line_color = 'grey')\n",
    "fig.add_vline(x = 1.15, opacity = 1, line_width = 2, line_dash = 'dash', line_color = 'grey')\n",
    "\n",
    "fig.add_annotation(x = 1.6, y = 0.63, text = \"Data from fbref.com\", showarrow = False)\n",
    "\n",
    "fig.show()"
   ]
  },
  {
   "cell_type": "code",
   "execution_count": 87,
   "metadata": {},
   "outputs": [
    {
     "data": {
      "text/html": [
       "\n",
       "<div id=\"altair-viz-1a036a383515455cb809464b1559553c\"></div>\n",
       "<script type=\"text/javascript\">\n",
       "  (function(spec, embedOpt){\n",
       "    let outputDiv = document.currentScript.previousElementSibling;\n",
       "    if (outputDiv.id !== \"altair-viz-1a036a383515455cb809464b1559553c\") {\n",
       "      outputDiv = document.getElementById(\"altair-viz-1a036a383515455cb809464b1559553c\");\n",
       "    }\n",
       "    const paths = {\n",
       "      \"vega\": \"https://cdn.jsdelivr.net/npm//vega@5?noext\",\n",
       "      \"vega-lib\": \"https://cdn.jsdelivr.net/npm//vega-lib?noext\",\n",
       "      \"vega-lite\": \"https://cdn.jsdelivr.net/npm//vega-lite@4.8.1?noext\",\n",
       "      \"vega-embed\": \"https://cdn.jsdelivr.net/npm//vega-embed@6?noext\",\n",
       "    };\n",
       "\n",
       "    function loadScript(lib) {\n",
       "      return new Promise(function(resolve, reject) {\n",
       "        var s = document.createElement('script');\n",
       "        s.src = paths[lib];\n",
       "        s.async = true;\n",
       "        s.onload = () => resolve(paths[lib]);\n",
       "        s.onerror = () => reject(`Error loading script: ${paths[lib]}`);\n",
       "        document.getElementsByTagName(\"head\")[0].appendChild(s);\n",
       "      });\n",
       "    }\n",
       "\n",
       "    function showError(err) {\n",
       "      outputDiv.innerHTML = `<div class=\"error\" style=\"color:red;\">${err}</div>`;\n",
       "      throw err;\n",
       "    }\n",
       "\n",
       "    function displayChart(vegaEmbed) {\n",
       "      vegaEmbed(outputDiv, spec, embedOpt)\n",
       "        .catch(err => showError(`Javascript Error: ${err.message}<br>This usually means there's a typo in your chart specification. See the javascript console for the full traceback.`));\n",
       "    }\n",
       "\n",
       "    if(typeof define === \"function\" && define.amd) {\n",
       "      requirejs.config({paths});\n",
       "      require([\"vega-embed\"], displayChart, err => showError(`Error loading script: ${err.message}`));\n",
       "    } else if (typeof vegaEmbed === \"function\") {\n",
       "      displayChart(vegaEmbed);\n",
       "    } else {\n",
       "      loadScript(\"vega\")\n",
       "        .then(() => loadScript(\"vega-lite\"))\n",
       "        .then(() => loadScript(\"vega-embed\"))\n",
       "        .catch(showError)\n",
       "        .then(() => displayChart(vegaEmbed));\n",
       "    }\n",
       "  })({\"config\": {\"view\": {\"continuousWidth\": 400, \"continuousHeight\": 300}}, \"layer\": [{\"mark\": \"point\", \"encoding\": {\"color\": {\"value\": \"blue\"}, \"x\": {\"type\": \"quantitative\", \"axis\": {\"title\": \"Goals Scored\"}, \"field\": \"goals_scored_per_match\", \"scale\": {\"domain\": [0.5, 1.8]}}, \"y\": {\"type\": \"quantitative\", \"axis\": {\"title\": \"Goals Allowed\"}, \"field\": \"goals_allowed_per_match\", \"scale\": {\"domain\": [0.5, 1.8]}}}, \"height\": 500, \"width\": 500}, {\"mark\": {\"type\": \"text\", \"align\": \"left\", \"baseline\": \"middle\", \"dx\": 7}, \"encoding\": {\"color\": {\"value\": \"blue\"}, \"text\": {\"type\": \"nominal\", \"field\": \"Abbr\"}, \"x\": {\"type\": \"quantitative\", \"axis\": {\"title\": \"Goals Scored\"}, \"field\": \"goals_scored_per_match\", \"scale\": {\"domain\": [0.5, 1.8]}}, \"y\": {\"type\": \"quantitative\", \"axis\": {\"title\": \"Goals Allowed\"}, \"field\": \"goals_allowed_per_match\", \"scale\": {\"domain\": [0.5, 1.8]}}}, \"height\": 500, \"width\": 500}, {\"mark\": {\"type\": \"rule\", \"strokeDash\": [10, 10]}, \"encoding\": {\"color\": {\"value\": \"grey\"}, \"opacity\": {\"value\": 0.2}, \"x\": {\"type\": \"quantitative\", \"field\": \"mean\"}}}, {\"mark\": {\"type\": \"rule\", \"strokeDash\": [10, 10]}, \"encoding\": {\"color\": {\"value\": \"grey\"}, \"y\": {\"type\": \"quantitative\", \"field\": \"mean\"}}}], \"data\": {\"name\": \"data-e14da5a1ad975e018b04c49e3c5d8348\"}, \"title\": {\"text\": \"NWSL Goals Per Match, 2021\", \"subtitle\": \"Data from fbref.com\", \"subtitleColor\": \"grey\"}, \"$schema\": \"https://vega.github.io/schema/vega-lite/v4.8.1.json\", \"datasets\": {\"data-e14da5a1ad975e018b04c49e3c5d8348\": [{\"Rk\": 1, \"Squad\": \"Thorns\", \"Abbr\": \"POR\", \"MP\": 24, \"W\": 13, \"D\": 5, \"L\": 6, \"GF\": 33, \"GA\": 17, \"GD\": 16, \"Pts\": 44, \"Attendance\": 9158, \"Top Team Scorer\": \"Sophia Smith - 7\", \"Goalkeeper\": \"Bella Bixby\", \"Notes\": \"\\u2192 Semi-finals\", \"goals_scored_per_match\": 1.375, \"goals_allowed_per_match\": 0.7083333333333334, \"mean\": 1.1583333333333334}, {\"Rk\": 2, \"Squad\": \"Reign\", \"Abbr\": \"SEA\", \"MP\": 24, \"W\": 13, \"D\": 3, \"L\": 8, \"GF\": 37, \"GA\": 24, \"GD\": 13, \"Pts\": 42, \"Attendance\": 5240, \"Top Team Scorer\": \"Bethany Balcer - 9\", \"Goalkeeper\": \"Sarah Bouhaddi\", \"Notes\": \"\\u2192 Semi-finals\", \"goals_scored_per_match\": 1.5416666666666667, \"goals_allowed_per_match\": 1.0, \"mean\": 1.1583333333333334}, {\"Rk\": 3, \"Squad\": \"Spirit\", \"Abbr\": \"WAS\", \"MP\": 24, \"W\": 11, \"D\": 6, \"L\": 7, \"GF\": 29, \"GA\": 26, \"GD\": 3, \"Pts\": 39, \"Attendance\": 3686, \"Top Team Scorer\": \"Ashley Hatch - 10\", \"Goalkeeper\": \"Aubrey Kingsbury\", \"Notes\": \"\\u2192 First round\", \"goals_scored_per_match\": 1.2083333333333333, \"goals_allowed_per_match\": 1.0833333333333333, \"mean\": 1.1583333333333334}, {\"Rk\": 4, \"Squad\": \"Red Stars\", \"Abbr\": \"CHI\", \"MP\": 24, \"W\": 11, \"D\": 5, \"L\": 8, \"GF\": 28, \"GA\": 28, \"GD\": 0, \"Pts\": 38, \"Attendance\": 2954, \"Top Team Scorer\": \"Kealia Watt - 5\", \"Goalkeeper\": \"Cassie Miller\", \"Notes\": \"\\u2192 First round\", \"goals_scored_per_match\": 1.1666666666666667, \"goals_allowed_per_match\": 1.1666666666666667, \"mean\": 1.1583333333333334}, {\"Rk\": 5, \"Squad\": \"Gotham FC\", \"Abbr\": \"NYNJ\", \"MP\": 24, \"W\": 8, \"D\": 11, \"L\": 5, \"GF\": 29, \"GA\": 21, \"GD\": 8, \"Pts\": 35, \"Attendance\": 3196, \"Top Team Scorer\": \"Margaret Purce - 9\", \"Goalkeeper\": \"Kailen Sheridan\", \"Notes\": \"\\u2192 First round\", \"goals_scored_per_match\": 1.2083333333333333, \"goals_allowed_per_match\": 0.875, \"mean\": 1.1583333333333334}, {\"Rk\": 6, \"Squad\": \"Courage\", \"Abbr\": \"NC\", \"MP\": 24, \"W\": 9, \"D\": 6, \"L\": 9, \"GF\": 28, \"GA\": 23, \"GD\": 5, \"Pts\": 33, \"Attendance\": 4125, \"Top Team Scorer\": \"Lynn Williams - 7\", \"Goalkeeper\": \"Casey Murphy\", \"Notes\": \"\\u2192 First round\", \"goals_scored_per_match\": 1.1666666666666667, \"goals_allowed_per_match\": 0.9583333333333334, \"mean\": 1.1583333333333334}, {\"Rk\": 7, \"Squad\": \"Dash\", \"Abbr\": \"HOU\", \"MP\": 24, \"W\": 9, \"D\": 5, \"L\": 10, \"GF\": 31, \"GA\": 31, \"GD\": 0, \"Pts\": 32, \"Attendance\": 2615, \"Top Team Scorer\": \"Rachel Daly - 9\", \"Goalkeeper\": \"Jane Campbell\", \"Notes\": null, \"goals_scored_per_match\": 1.2916666666666667, \"goals_allowed_per_match\": 1.2916666666666667, \"mean\": 1.1583333333333334}, {\"Rk\": 8, \"Squad\": \"Pride\", \"Abbr\": \"ORL\", \"MP\": 24, \"W\": 7, \"D\": 7, \"L\": 10, \"GF\": 27, \"GA\": 32, \"GD\": -5, \"Pts\": 28, \"Attendance\": 2719, \"Top Team Scorer\": \"Sydney Leroux - 8\", \"Goalkeeper\": \"Ashlyn Harris\", \"Notes\": null, \"goals_scored_per_match\": 1.125, \"goals_allowed_per_match\": 1.3333333333333333, \"mean\": 1.1583333333333334}, {\"Rk\": 9, \"Squad\": \"Louisville\", \"Abbr\": \"LOU\", \"MP\": 24, \"W\": 5, \"D\": 7, \"L\": 12, \"GF\": 21, \"GA\": 40, \"GD\": -19, \"Pts\": 22, \"Attendance\": 6059, \"Top Team Scorer\": \"Ebony Salmon - 6\", \"Goalkeeper\": \"Michelle Betos\", \"Notes\": null, \"goals_scored_per_match\": 0.875, \"goals_allowed_per_match\": 1.6666666666666667, \"mean\": 1.1583333333333334}, {\"Rk\": 10, \"Squad\": \"Kansas City\", \"Abbr\": \"KC\", \"MP\": 24, \"W\": 3, \"D\": 7, \"L\": 14, \"GF\": 15, \"GA\": 36, \"GD\": -21, \"Pts\": 16, \"Attendance\": 4040, \"Top Team Scorer\": \"Darian Jenkins - 3\", \"Goalkeeper\": \"Adrianna Franch\", \"Notes\": null, \"goals_scored_per_match\": 0.625, \"goals_allowed_per_match\": 1.5, \"mean\": 1.1583333333333334}]}}, {\"mode\": \"vega-lite\"});\n",
       "</script>"
      ],
      "text/plain": [
       "alt.LayerChart(...)"
      ]
     },
     "execution_count": 87,
     "metadata": {},
     "output_type": "execute_result"
    }
   ],
   "source": [
    "# Graph in Altair\n",
    "\n",
    "points = alt.Chart(df).mark_point().encode(\n",
    "    alt.X('goals_scored_per_match',\n",
    "        scale = alt.Scale(domain = (0.5, 1.8)),\n",
    "        axis = alt.Axis(title = \"Goals Scored\")\n",
    "        ),\n",
    "    alt.Y('goals_allowed_per_match',\n",
    "        scale = alt.Scale(domain = (0.5, 1.8)),\n",
    "        axis = alt.Axis(title = \"Goals Allowed\")\n",
    "        ),\n",
    "    color = alt.value('blue')\n",
    ").properties(\n",
    "    width = 500,\n",
    "    height = 500\n",
    ")\n",
    "\n",
    "text = points.mark_text(\n",
    "    align = 'left',\n",
    "    baseline = 'middle',\n",
    "    dx = 7,\n",
    ").encode(\n",
    "    text = 'Abbr'\n",
    ")\n",
    "\n",
    "x_line = alt.Chart(df).mark_rule(strokeDash= [10, 10]).encode(\n",
    "    x = 'mean',\n",
    "    opacity = alt.value(0.2),\n",
    "    color = alt.value('grey')\n",
    ")\n",
    "\n",
    "y_line = alt.Chart(df).mark_rule(strokeDash= [10, 10]).encode(\n",
    "    y = 'mean',\n",
    "    color = alt.value('grey')\n",
    ")\n",
    "\n",
    "\n",
    "alt.layer(\n",
    "    points, text, x_line, y_line\n",
    ").properties(\n",
    "    title = {\n",
    "        \"text\": \"NWSL Goals Per Match, 2021\",\n",
    "        \"subtitle\" : \"Data from fbref.com\",\n",
    "        \"subtitleColor\" : \"grey\"\n",
    "    }\n",
    ")"
   ]
  },
  {
   "cell_type": "code",
   "execution_count": 79,
   "metadata": {},
   "outputs": [
    {
     "data": {
      "text/html": [
       "\n",
       "<div id=\"altair-viz-52df7ef93280443fa486ce553a91de01\"></div>\n",
       "<script type=\"text/javascript\">\n",
       "  (function(spec, embedOpt){\n",
       "    let outputDiv = document.currentScript.previousElementSibling;\n",
       "    if (outputDiv.id !== \"altair-viz-52df7ef93280443fa486ce553a91de01\") {\n",
       "      outputDiv = document.getElementById(\"altair-viz-52df7ef93280443fa486ce553a91de01\");\n",
       "    }\n",
       "    const paths = {\n",
       "      \"vega\": \"https://cdn.jsdelivr.net/npm//vega@5?noext\",\n",
       "      \"vega-lib\": \"https://cdn.jsdelivr.net/npm//vega-lib?noext\",\n",
       "      \"vega-lite\": \"https://cdn.jsdelivr.net/npm//vega-lite@4.8.1?noext\",\n",
       "      \"vega-embed\": \"https://cdn.jsdelivr.net/npm//vega-embed@6?noext\",\n",
       "    };\n",
       "\n",
       "    function loadScript(lib) {\n",
       "      return new Promise(function(resolve, reject) {\n",
       "        var s = document.createElement('script');\n",
       "        s.src = paths[lib];\n",
       "        s.async = true;\n",
       "        s.onload = () => resolve(paths[lib]);\n",
       "        s.onerror = () => reject(`Error loading script: ${paths[lib]}`);\n",
       "        document.getElementsByTagName(\"head\")[0].appendChild(s);\n",
       "      });\n",
       "    }\n",
       "\n",
       "    function showError(err) {\n",
       "      outputDiv.innerHTML = `<div class=\"error\" style=\"color:red;\">${err}</div>`;\n",
       "      throw err;\n",
       "    }\n",
       "\n",
       "    function displayChart(vegaEmbed) {\n",
       "      vegaEmbed(outputDiv, spec, embedOpt)\n",
       "        .catch(err => showError(`Javascript Error: ${err.message}<br>This usually means there's a typo in your chart specification. See the javascript console for the full traceback.`));\n",
       "    }\n",
       "\n",
       "    if(typeof define === \"function\" && define.amd) {\n",
       "      requirejs.config({paths});\n",
       "      require([\"vega-embed\"], displayChart, err => showError(`Error loading script: ${err.message}`));\n",
       "    } else if (typeof vegaEmbed === \"function\") {\n",
       "      displayChart(vegaEmbed);\n",
       "    } else {\n",
       "      loadScript(\"vega\")\n",
       "        .then(() => loadScript(\"vega-lite\"))\n",
       "        .then(() => loadScript(\"vega-embed\"))\n",
       "        .catch(showError)\n",
       "        .then(() => displayChart(vegaEmbed));\n",
       "    }\n",
       "  })({\"config\": {\"view\": {\"continuousWidth\": 400, \"continuousHeight\": 300}}, \"layer\": [{\"mark\": \"point\", \"encoding\": {\"color\": {\"value\": \"blue\"}, \"x\": {\"type\": \"quantitative\", \"axis\": {\"title\": \"Goal Differential\"}, \"field\": \"GD\"}, \"y\": {\"type\": \"quantitative\", \"axis\": {\"title\": \"Points\"}, \"field\": \"Pts\", \"scale\": {\"zero\": false}}}}, {\"mark\": {\"type\": \"text\", \"align\": \"left\", \"baseline\": \"middle\", \"dx\": 7}, \"encoding\": {\"color\": {\"value\": \"blue\"}, \"text\": {\"type\": \"nominal\", \"field\": \"Abbr\"}, \"x\": {\"type\": \"quantitative\", \"axis\": {\"title\": \"Goal Differential\"}, \"field\": \"GD\"}, \"y\": {\"type\": \"quantitative\", \"axis\": {\"title\": \"Points\"}, \"field\": \"Pts\", \"scale\": {\"zero\": false}}}}, {\"mark\": {\"type\": \"line\", \"size\": 1}, \"encoding\": {\"color\": {\"value\": \"grey\"}, \"x\": {\"type\": \"quantitative\", \"axis\": {\"title\": \"Goal Differential\"}, \"field\": \"GD\"}, \"y\": {\"type\": \"quantitative\", \"axis\": {\"title\": \"Points\"}, \"field\": \"Pts\", \"scale\": {\"zero\": false}}}, \"transform\": [{\"on\": \"GD\", \"regression\": \"Pts\"}]}], \"data\": {\"name\": \"data-e14da5a1ad975e018b04c49e3c5d8348\"}, \"title\": \"NWSL Goal Differential and Points\", \"$schema\": \"https://vega.github.io/schema/vega-lite/v4.8.1.json\", \"datasets\": {\"data-e14da5a1ad975e018b04c49e3c5d8348\": [{\"Rk\": 1, \"Squad\": \"Thorns\", \"Abbr\": \"POR\", \"MP\": 24, \"W\": 13, \"D\": 5, \"L\": 6, \"GF\": 33, \"GA\": 17, \"GD\": 16, \"Pts\": 44, \"Attendance\": 9158, \"Top Team Scorer\": \"Sophia Smith - 7\", \"Goalkeeper\": \"Bella Bixby\", \"Notes\": \"\\u2192 Semi-finals\", \"goals_scored_per_match\": 1.375, \"goals_allowed_per_match\": 0.7083333333333334, \"mean\": 1.1583333333333334}, {\"Rk\": 2, \"Squad\": \"Reign\", \"Abbr\": \"SEA\", \"MP\": 24, \"W\": 13, \"D\": 3, \"L\": 8, \"GF\": 37, \"GA\": 24, \"GD\": 13, \"Pts\": 42, \"Attendance\": 5240, \"Top Team Scorer\": \"Bethany Balcer - 9\", \"Goalkeeper\": \"Sarah Bouhaddi\", \"Notes\": \"\\u2192 Semi-finals\", \"goals_scored_per_match\": 1.5416666666666667, \"goals_allowed_per_match\": 1.0, \"mean\": 1.1583333333333334}, {\"Rk\": 3, \"Squad\": \"Spirit\", \"Abbr\": \"WAS\", \"MP\": 24, \"W\": 11, \"D\": 6, \"L\": 7, \"GF\": 29, \"GA\": 26, \"GD\": 3, \"Pts\": 39, \"Attendance\": 3686, \"Top Team Scorer\": \"Ashley Hatch - 10\", \"Goalkeeper\": \"Aubrey Kingsbury\", \"Notes\": \"\\u2192 First round\", \"goals_scored_per_match\": 1.2083333333333333, \"goals_allowed_per_match\": 1.0833333333333333, \"mean\": 1.1583333333333334}, {\"Rk\": 4, \"Squad\": \"Red Stars\", \"Abbr\": \"CHI\", \"MP\": 24, \"W\": 11, \"D\": 5, \"L\": 8, \"GF\": 28, \"GA\": 28, \"GD\": 0, \"Pts\": 38, \"Attendance\": 2954, \"Top Team Scorer\": \"Kealia Watt - 5\", \"Goalkeeper\": \"Cassie Miller\", \"Notes\": \"\\u2192 First round\", \"goals_scored_per_match\": 1.1666666666666667, \"goals_allowed_per_match\": 1.1666666666666667, \"mean\": 1.1583333333333334}, {\"Rk\": 5, \"Squad\": \"Gotham FC\", \"Abbr\": \"NYNJ\", \"MP\": 24, \"W\": 8, \"D\": 11, \"L\": 5, \"GF\": 29, \"GA\": 21, \"GD\": 8, \"Pts\": 35, \"Attendance\": 3196, \"Top Team Scorer\": \"Margaret Purce - 9\", \"Goalkeeper\": \"Kailen Sheridan\", \"Notes\": \"\\u2192 First round\", \"goals_scored_per_match\": 1.2083333333333333, \"goals_allowed_per_match\": 0.875, \"mean\": 1.1583333333333334}, {\"Rk\": 6, \"Squad\": \"Courage\", \"Abbr\": \"NC\", \"MP\": 24, \"W\": 9, \"D\": 6, \"L\": 9, \"GF\": 28, \"GA\": 23, \"GD\": 5, \"Pts\": 33, \"Attendance\": 4125, \"Top Team Scorer\": \"Lynn Williams - 7\", \"Goalkeeper\": \"Casey Murphy\", \"Notes\": \"\\u2192 First round\", \"goals_scored_per_match\": 1.1666666666666667, \"goals_allowed_per_match\": 0.9583333333333334, \"mean\": 1.1583333333333334}, {\"Rk\": 7, \"Squad\": \"Dash\", \"Abbr\": \"HOU\", \"MP\": 24, \"W\": 9, \"D\": 5, \"L\": 10, \"GF\": 31, \"GA\": 31, \"GD\": 0, \"Pts\": 32, \"Attendance\": 2615, \"Top Team Scorer\": \"Rachel Daly - 9\", \"Goalkeeper\": \"Jane Campbell\", \"Notes\": null, \"goals_scored_per_match\": 1.2916666666666667, \"goals_allowed_per_match\": 1.2916666666666667, \"mean\": 1.1583333333333334}, {\"Rk\": 8, \"Squad\": \"Pride\", \"Abbr\": \"ORL\", \"MP\": 24, \"W\": 7, \"D\": 7, \"L\": 10, \"GF\": 27, \"GA\": 32, \"GD\": -5, \"Pts\": 28, \"Attendance\": 2719, \"Top Team Scorer\": \"Sydney Leroux - 8\", \"Goalkeeper\": \"Ashlyn Harris\", \"Notes\": null, \"goals_scored_per_match\": 1.125, \"goals_allowed_per_match\": 1.3333333333333333, \"mean\": 1.1583333333333334}, {\"Rk\": 9, \"Squad\": \"Louisville\", \"Abbr\": \"LOU\", \"MP\": 24, \"W\": 5, \"D\": 7, \"L\": 12, \"GF\": 21, \"GA\": 40, \"GD\": -19, \"Pts\": 22, \"Attendance\": 6059, \"Top Team Scorer\": \"Ebony Salmon - 6\", \"Goalkeeper\": \"Michelle Betos\", \"Notes\": null, \"goals_scored_per_match\": 0.875, \"goals_allowed_per_match\": 1.6666666666666667, \"mean\": 1.1583333333333334}, {\"Rk\": 10, \"Squad\": \"Kansas City\", \"Abbr\": \"KC\", \"MP\": 24, \"W\": 3, \"D\": 7, \"L\": 14, \"GF\": 15, \"GA\": 36, \"GD\": -21, \"Pts\": 16, \"Attendance\": 4040, \"Top Team Scorer\": \"Darian Jenkins - 3\", \"Goalkeeper\": \"Adrianna Franch\", \"Notes\": null, \"goals_scored_per_match\": 0.625, \"goals_allowed_per_match\": 1.5, \"mean\": 1.1583333333333334}]}}, {\"mode\": \"vega-lite\"});\n",
       "</script>"
      ],
      "text/plain": [
       "alt.LayerChart(...)"
      ]
     },
     "execution_count": 79,
     "metadata": {},
     "output_type": "execute_result"
    }
   ],
   "source": [
    "points = alt.Chart(df).mark_point().encode(\n",
    "    alt.X('GD',\n",
    "        axis = alt.Axis(title = \"Goal Differential\")\n",
    "        ),\n",
    "    alt.Y('Pts',\n",
    "        scale = alt.Scale(zero = False), #does not have to start at zero - but this restricts it to the exact range of the data, often putting labels on the edge\n",
    "        #scale = alt.Scale(domain = (15, 45)), #looks better, but must be set manually\n",
    "        axis = alt.Axis(title = \"Points\")\n",
    "        ),\n",
    "    color = alt.value('blue')\n",
    ")\n",
    "\n",
    "text = points.mark_text(\n",
    "    align = 'left',\n",
    "    baseline = 'middle',\n",
    "    dx = 7,\n",
    ").encode(\n",
    "    text = 'Abbr'\n",
    ")\n",
    "\n",
    "lm_line = points.transform_regression('GD', 'Pts').mark_line(size = 1).encode(color = alt.value(\"grey\"))\n",
    "\n",
    "alt.layer(\n",
    "    points, text, lm_line\n",
    ").properties(\n",
    "    title = \"NWSL Goal Differential and Points\"\n",
    ")"
   ]
  },
  {
   "cell_type": "code",
   "execution_count": 83,
   "metadata": {},
   "outputs": [
    {
     "data": {
      "text/html": [
       "\n",
       "<div id=\"altair-viz-f00f3ea39a4c427082c633d02f1abd39\"></div>\n",
       "<script type=\"text/javascript\">\n",
       "  (function(spec, embedOpt){\n",
       "    let outputDiv = document.currentScript.previousElementSibling;\n",
       "    if (outputDiv.id !== \"altair-viz-f00f3ea39a4c427082c633d02f1abd39\") {\n",
       "      outputDiv = document.getElementById(\"altair-viz-f00f3ea39a4c427082c633d02f1abd39\");\n",
       "    }\n",
       "    const paths = {\n",
       "      \"vega\": \"https://cdn.jsdelivr.net/npm//vega@5?noext\",\n",
       "      \"vega-lib\": \"https://cdn.jsdelivr.net/npm//vega-lib?noext\",\n",
       "      \"vega-lite\": \"https://cdn.jsdelivr.net/npm//vega-lite@4.8.1?noext\",\n",
       "      \"vega-embed\": \"https://cdn.jsdelivr.net/npm//vega-embed@6?noext\",\n",
       "    };\n",
       "\n",
       "    function loadScript(lib) {\n",
       "      return new Promise(function(resolve, reject) {\n",
       "        var s = document.createElement('script');\n",
       "        s.src = paths[lib];\n",
       "        s.async = true;\n",
       "        s.onload = () => resolve(paths[lib]);\n",
       "        s.onerror = () => reject(`Error loading script: ${paths[lib]}`);\n",
       "        document.getElementsByTagName(\"head\")[0].appendChild(s);\n",
       "      });\n",
       "    }\n",
       "\n",
       "    function showError(err) {\n",
       "      outputDiv.innerHTML = `<div class=\"error\" style=\"color:red;\">${err}</div>`;\n",
       "      throw err;\n",
       "    }\n",
       "\n",
       "    function displayChart(vegaEmbed) {\n",
       "      vegaEmbed(outputDiv, spec, embedOpt)\n",
       "        .catch(err => showError(`Javascript Error: ${err.message}<br>This usually means there's a typo in your chart specification. See the javascript console for the full traceback.`));\n",
       "    }\n",
       "\n",
       "    if(typeof define === \"function\" && define.amd) {\n",
       "      requirejs.config({paths});\n",
       "      require([\"vega-embed\"], displayChart, err => showError(`Error loading script: ${err.message}`));\n",
       "    } else if (typeof vegaEmbed === \"function\") {\n",
       "      displayChart(vegaEmbed);\n",
       "    } else {\n",
       "      loadScript(\"vega\")\n",
       "        .then(() => loadScript(\"vega-lite\"))\n",
       "        .then(() => loadScript(\"vega-embed\"))\n",
       "        .catch(showError)\n",
       "        .then(() => displayChart(vegaEmbed));\n",
       "    }\n",
       "  })({\"config\": {\"view\": {\"continuousWidth\": 400, \"continuousHeight\": 300}}, \"data\": {\"name\": \"data-e14da5a1ad975e018b04c49e3c5d8348\"}, \"mark\": \"bar\", \"encoding\": {\"color\": {\"value\": \"blue\"}, \"x\": {\"type\": \"quantitative\", \"axis\": {\"title\": \"Avg. Attendance\"}, \"field\": \"Attendance\"}, \"y\": {\"type\": \"nominal\", \"axis\": {\"title\": \"\"}, \"field\": \"Abbr\", \"sort\": \"-x\"}}, \"title\": \"NWSL Home Attendance, 2021\", \"$schema\": \"https://vega.github.io/schema/vega-lite/v4.8.1.json\", \"datasets\": {\"data-e14da5a1ad975e018b04c49e3c5d8348\": [{\"Rk\": 1, \"Squad\": \"Thorns\", \"Abbr\": \"POR\", \"MP\": 24, \"W\": 13, \"D\": 5, \"L\": 6, \"GF\": 33, \"GA\": 17, \"GD\": 16, \"Pts\": 44, \"Attendance\": 9158, \"Top Team Scorer\": \"Sophia Smith - 7\", \"Goalkeeper\": \"Bella Bixby\", \"Notes\": \"\\u2192 Semi-finals\", \"goals_scored_per_match\": 1.375, \"goals_allowed_per_match\": 0.7083333333333334, \"mean\": 1.1583333333333334}, {\"Rk\": 2, \"Squad\": \"Reign\", \"Abbr\": \"SEA\", \"MP\": 24, \"W\": 13, \"D\": 3, \"L\": 8, \"GF\": 37, \"GA\": 24, \"GD\": 13, \"Pts\": 42, \"Attendance\": 5240, \"Top Team Scorer\": \"Bethany Balcer - 9\", \"Goalkeeper\": \"Sarah Bouhaddi\", \"Notes\": \"\\u2192 Semi-finals\", \"goals_scored_per_match\": 1.5416666666666667, \"goals_allowed_per_match\": 1.0, \"mean\": 1.1583333333333334}, {\"Rk\": 3, \"Squad\": \"Spirit\", \"Abbr\": \"WAS\", \"MP\": 24, \"W\": 11, \"D\": 6, \"L\": 7, \"GF\": 29, \"GA\": 26, \"GD\": 3, \"Pts\": 39, \"Attendance\": 3686, \"Top Team Scorer\": \"Ashley Hatch - 10\", \"Goalkeeper\": \"Aubrey Kingsbury\", \"Notes\": \"\\u2192 First round\", \"goals_scored_per_match\": 1.2083333333333333, \"goals_allowed_per_match\": 1.0833333333333333, \"mean\": 1.1583333333333334}, {\"Rk\": 4, \"Squad\": \"Red Stars\", \"Abbr\": \"CHI\", \"MP\": 24, \"W\": 11, \"D\": 5, \"L\": 8, \"GF\": 28, \"GA\": 28, \"GD\": 0, \"Pts\": 38, \"Attendance\": 2954, \"Top Team Scorer\": \"Kealia Watt - 5\", \"Goalkeeper\": \"Cassie Miller\", \"Notes\": \"\\u2192 First round\", \"goals_scored_per_match\": 1.1666666666666667, \"goals_allowed_per_match\": 1.1666666666666667, \"mean\": 1.1583333333333334}, {\"Rk\": 5, \"Squad\": \"Gotham FC\", \"Abbr\": \"NYNJ\", \"MP\": 24, \"W\": 8, \"D\": 11, \"L\": 5, \"GF\": 29, \"GA\": 21, \"GD\": 8, \"Pts\": 35, \"Attendance\": 3196, \"Top Team Scorer\": \"Margaret Purce - 9\", \"Goalkeeper\": \"Kailen Sheridan\", \"Notes\": \"\\u2192 First round\", \"goals_scored_per_match\": 1.2083333333333333, \"goals_allowed_per_match\": 0.875, \"mean\": 1.1583333333333334}, {\"Rk\": 6, \"Squad\": \"Courage\", \"Abbr\": \"NC\", \"MP\": 24, \"W\": 9, \"D\": 6, \"L\": 9, \"GF\": 28, \"GA\": 23, \"GD\": 5, \"Pts\": 33, \"Attendance\": 4125, \"Top Team Scorer\": \"Lynn Williams - 7\", \"Goalkeeper\": \"Casey Murphy\", \"Notes\": \"\\u2192 First round\", \"goals_scored_per_match\": 1.1666666666666667, \"goals_allowed_per_match\": 0.9583333333333334, \"mean\": 1.1583333333333334}, {\"Rk\": 7, \"Squad\": \"Dash\", \"Abbr\": \"HOU\", \"MP\": 24, \"W\": 9, \"D\": 5, \"L\": 10, \"GF\": 31, \"GA\": 31, \"GD\": 0, \"Pts\": 32, \"Attendance\": 2615, \"Top Team Scorer\": \"Rachel Daly - 9\", \"Goalkeeper\": \"Jane Campbell\", \"Notes\": null, \"goals_scored_per_match\": 1.2916666666666667, \"goals_allowed_per_match\": 1.2916666666666667, \"mean\": 1.1583333333333334}, {\"Rk\": 8, \"Squad\": \"Pride\", \"Abbr\": \"ORL\", \"MP\": 24, \"W\": 7, \"D\": 7, \"L\": 10, \"GF\": 27, \"GA\": 32, \"GD\": -5, \"Pts\": 28, \"Attendance\": 2719, \"Top Team Scorer\": \"Sydney Leroux - 8\", \"Goalkeeper\": \"Ashlyn Harris\", \"Notes\": null, \"goals_scored_per_match\": 1.125, \"goals_allowed_per_match\": 1.3333333333333333, \"mean\": 1.1583333333333334}, {\"Rk\": 9, \"Squad\": \"Louisville\", \"Abbr\": \"LOU\", \"MP\": 24, \"W\": 5, \"D\": 7, \"L\": 12, \"GF\": 21, \"GA\": 40, \"GD\": -19, \"Pts\": 22, \"Attendance\": 6059, \"Top Team Scorer\": \"Ebony Salmon - 6\", \"Goalkeeper\": \"Michelle Betos\", \"Notes\": null, \"goals_scored_per_match\": 0.875, \"goals_allowed_per_match\": 1.6666666666666667, \"mean\": 1.1583333333333334}, {\"Rk\": 10, \"Squad\": \"Kansas City\", \"Abbr\": \"KC\", \"MP\": 24, \"W\": 3, \"D\": 7, \"L\": 14, \"GF\": 15, \"GA\": 36, \"GD\": -21, \"Pts\": 16, \"Attendance\": 4040, \"Top Team Scorer\": \"Darian Jenkins - 3\", \"Goalkeeper\": \"Adrianna Franch\", \"Notes\": null, \"goals_scored_per_match\": 0.625, \"goals_allowed_per_match\": 1.5, \"mean\": 1.1583333333333334}]}}, {\"mode\": \"vega-lite\"});\n",
       "</script>"
      ],
      "text/plain": [
       "alt.Chart(...)"
      ]
     },
     "execution_count": 83,
     "metadata": {},
     "output_type": "execute_result"
    }
   ],
   "source": [
    "alt.Chart(df).mark_bar().encode(\n",
    "    alt.Y('Abbr',\n",
    "        sort = '-x',\n",
    "        axis = alt.Axis(title = \"\")\n",
    "        ),\n",
    "    alt.X('Attendance',\n",
    "        axis = alt.Axis(title = \"Avg. Attendance\")\n",
    "        ),\n",
    "    color = alt.value('blue')\n",
    ").properties(\n",
    "    title = \"NWSL Home Attendance, 2021\"\n",
    ")\n",
    "\n"
   ]
  },
  {
   "cell_type": "code",
   "execution_count": 94,
   "metadata": {},
   "outputs": [
    {
     "data": {
      "text/plain": [
       "6609.545454545455"
      ]
     },
     "execution_count": 94,
     "metadata": {},
     "output_type": "execute_result"
    }
   ],
   "source": [
    "df2 = pd.read_csv(\"data/team/lou_games.csv\")\n",
    "df_home = df2[df2['Venue'] == 'Home']\n",
    "df_home = df_home[df_home['Comp'] == 'NWSL']\n",
    "wrong_way = df_home['Attendance'].sum()/12\n",
    "df_home['Attendance'].mean()"
   ]
  },
  {
   "cell_type": "code",
   "execution_count": 115,
   "metadata": {},
   "outputs": [
    {
     "data": {
      "text/html": [
       "<div>\n",
       "<style scoped>\n",
       "    .dataframe tbody tr th:only-of-type {\n",
       "        vertical-align: middle;\n",
       "    }\n",
       "\n",
       "    .dataframe tbody tr th {\n",
       "        vertical-align: top;\n",
       "    }\n",
       "\n",
       "    .dataframe thead th {\n",
       "        text-align: right;\n",
       "    }\n",
       "</style>\n",
       "<table border=\"1\" class=\"dataframe\">\n",
       "  <thead>\n",
       "    <tr style=\"text-align: right;\">\n",
       "      <th></th>\n",
       "      <th>GF</th>\n",
       "      <th>GA</th>\n",
       "      <th>Poss</th>\n",
       "    </tr>\n",
       "    <tr>\n",
       "      <th>Result</th>\n",
       "      <th></th>\n",
       "      <th></th>\n",
       "      <th></th>\n",
       "    </tr>\n",
       "  </thead>\n",
       "  <tbody>\n",
       "    <tr>\n",
       "      <th>D</th>\n",
       "      <td>0.857143</td>\n",
       "      <td>0.857143</td>\n",
       "      <td>46.714286</td>\n",
       "    </tr>\n",
       "    <tr>\n",
       "      <th>L</th>\n",
       "      <td>0.250000</td>\n",
       "      <td>2.666667</td>\n",
       "      <td>45.916667</td>\n",
       "    </tr>\n",
       "    <tr>\n",
       "      <th>W</th>\n",
       "      <td>2.400000</td>\n",
       "      <td>0.400000</td>\n",
       "      <td>46.800000</td>\n",
       "    </tr>\n",
       "  </tbody>\n",
       "</table>\n",
       "</div>"
      ],
      "text/plain": [
       "              GF        GA       Poss\n",
       "Result                               \n",
       "D       0.857143  0.857143  46.714286\n",
       "L       0.250000  2.666667  45.916667\n",
       "W       2.400000  0.400000  46.800000"
      ]
     },
     "execution_count": 115,
     "metadata": {},
     "output_type": "execute_result"
    }
   ],
   "source": [
    "# calc possession by W/D/L\n",
    "df2 = df2[df2['Comp'] == 'NWSL']\n",
    "df2.groupby(['Result'])[['GF', 'GA', 'Poss']].mean()"
   ]
  },
  {
   "cell_type": "code",
   "execution_count": 116,
   "metadata": {},
   "outputs": [
    {
     "data": {
      "text/html": [
       "<div>\n",
       "<style scoped>\n",
       "    .dataframe tbody tr th:only-of-type {\n",
       "        vertical-align: middle;\n",
       "    }\n",
       "\n",
       "    .dataframe tbody tr th {\n",
       "        vertical-align: top;\n",
       "    }\n",
       "\n",
       "    .dataframe thead th {\n",
       "        text-align: right;\n",
       "    }\n",
       "</style>\n",
       "<table border=\"1\" class=\"dataframe\">\n",
       "  <thead>\n",
       "    <tr style=\"text-align: right;\">\n",
       "      <th></th>\n",
       "      <th>GF</th>\n",
       "      <th>GA</th>\n",
       "      <th>Poss</th>\n",
       "    </tr>\n",
       "    <tr>\n",
       "      <th>Venue</th>\n",
       "      <th></th>\n",
       "      <th></th>\n",
       "      <th></th>\n",
       "    </tr>\n",
       "  </thead>\n",
       "  <tbody>\n",
       "    <tr>\n",
       "      <th>Away</th>\n",
       "      <td>0.75</td>\n",
       "      <td>2.083333</td>\n",
       "      <td>45.666667</td>\n",
       "    </tr>\n",
       "    <tr>\n",
       "      <th>Home</th>\n",
       "      <td>1.00</td>\n",
       "      <td>1.250000</td>\n",
       "      <td>47.000000</td>\n",
       "    </tr>\n",
       "  </tbody>\n",
       "</table>\n",
       "</div>"
      ],
      "text/plain": [
       "         GF        GA       Poss\n",
       "Venue                           \n",
       "Away   0.75  2.083333  45.666667\n",
       "Home   1.00  1.250000  47.000000"
      ]
     },
     "execution_count": 116,
     "metadata": {},
     "output_type": "execute_result"
    }
   ],
   "source": [
    "df2.groupby(['Venue'])[['GF', 'GA', 'Poss']].mean()"
   ]
  },
  {
   "cell_type": "code",
   "execution_count": 141,
   "metadata": {},
   "outputs": [],
   "source": [
    "goals_df = df2[['Venue', 'GF', 'GA']].melt(id_vars = ['Venue'], value_vars = ['GF', 'GA'])\n",
    "old_list = ['GF', 'GA']\n",
    "new_list = ['Scored', 'Allowed']\n",
    "\n",
    "goals_df['variable'] = goals_df['variable'].replace(old_list, new_list)"
   ]
  },
  {
   "cell_type": "code",
   "execution_count": 142,
   "metadata": {},
   "outputs": [
    {
     "data": {
      "text/html": [
       "\n",
       "<div id=\"altair-viz-60e69b2c58724081acbdbde7df801e2d\"></div>\n",
       "<script type=\"text/javascript\">\n",
       "  (function(spec, embedOpt){\n",
       "    let outputDiv = document.currentScript.previousElementSibling;\n",
       "    if (outputDiv.id !== \"altair-viz-60e69b2c58724081acbdbde7df801e2d\") {\n",
       "      outputDiv = document.getElementById(\"altair-viz-60e69b2c58724081acbdbde7df801e2d\");\n",
       "    }\n",
       "    const paths = {\n",
       "      \"vega\": \"https://cdn.jsdelivr.net/npm//vega@5?noext\",\n",
       "      \"vega-lib\": \"https://cdn.jsdelivr.net/npm//vega-lib?noext\",\n",
       "      \"vega-lite\": \"https://cdn.jsdelivr.net/npm//vega-lite@4.8.1?noext\",\n",
       "      \"vega-embed\": \"https://cdn.jsdelivr.net/npm//vega-embed@6?noext\",\n",
       "    };\n",
       "\n",
       "    function loadScript(lib) {\n",
       "      return new Promise(function(resolve, reject) {\n",
       "        var s = document.createElement('script');\n",
       "        s.src = paths[lib];\n",
       "        s.async = true;\n",
       "        s.onload = () => resolve(paths[lib]);\n",
       "        s.onerror = () => reject(`Error loading script: ${paths[lib]}`);\n",
       "        document.getElementsByTagName(\"head\")[0].appendChild(s);\n",
       "      });\n",
       "    }\n",
       "\n",
       "    function showError(err) {\n",
       "      outputDiv.innerHTML = `<div class=\"error\" style=\"color:red;\">${err}</div>`;\n",
       "      throw err;\n",
       "    }\n",
       "\n",
       "    function displayChart(vegaEmbed) {\n",
       "      vegaEmbed(outputDiv, spec, embedOpt)\n",
       "        .catch(err => showError(`Javascript Error: ${err.message}<br>This usually means there's a typo in your chart specification. See the javascript console for the full traceback.`));\n",
       "    }\n",
       "\n",
       "    if(typeof define === \"function\" && define.amd) {\n",
       "      requirejs.config({paths});\n",
       "      require([\"vega-embed\"], displayChart, err => showError(`Error loading script: ${err.message}`));\n",
       "    } else if (typeof vegaEmbed === \"function\") {\n",
       "      displayChart(vegaEmbed);\n",
       "    } else {\n",
       "      loadScript(\"vega\")\n",
       "        .then(() => loadScript(\"vega-lite\"))\n",
       "        .then(() => loadScript(\"vega-embed\"))\n",
       "        .catch(showError)\n",
       "        .then(() => displayChart(vegaEmbed));\n",
       "    }\n",
       "  })({\"config\": {\"view\": {\"continuousWidth\": 400, \"continuousHeight\": 300}}, \"data\": {\"name\": \"data-dec68cb0624319b68dc53da1096a771b\"}, \"mark\": \"bar\", \"encoding\": {\"color\": {\"type\": \"nominal\", \"field\": \"variable\"}, \"column\": {\"type\": \"nominal\", \"field\": \"Venue\"}, \"x\": {\"type\": \"quantitative\", \"aggregate\": \"mean\", \"axis\": {\"title\": \"Goals Per Game\"}, \"field\": \"value\"}, \"y\": {\"type\": \"nominal\", \"axis\": {\"title\": \"\"}, \"field\": \"variable\"}}, \"title\": \"Racing Louisville Goals Scored and Allowed by Home/Away\", \"$schema\": \"https://vega.github.io/schema/vega-lite/v4.8.1.json\", \"datasets\": {\"data-dec68cb0624319b68dc53da1096a771b\": [{\"Venue\": \"Home\", \"variable\": \"Scored\", \"value\": 0}, {\"Venue\": \"Home\", \"variable\": \"Scored\", \"value\": 2}, {\"Venue\": \"Away\", \"variable\": \"Scored\", \"value\": 0}, {\"Venue\": \"Away\", \"variable\": \"Scored\", \"value\": 0}, {\"Venue\": \"Home\", \"variable\": \"Scored\", \"value\": 1}, {\"Venue\": \"Home\", \"variable\": \"Scored\", \"value\": 0}, {\"Venue\": \"Away\", \"variable\": \"Scored\", \"value\": 3}, {\"Venue\": \"Home\", \"variable\": \"Scored\", \"value\": 0}, {\"Venue\": \"Away\", \"variable\": \"Scored\", \"value\": 1}, {\"Venue\": \"Home\", \"variable\": \"Scored\", \"value\": 0}, {\"Venue\": \"Away\", \"variable\": \"Scored\", \"value\": 0}, {\"Venue\": \"Home\", \"variable\": \"Scored\", \"value\": 3}, {\"Venue\": \"Away\", \"variable\": \"Scored\", \"value\": 1}, {\"Venue\": \"Home\", \"variable\": \"Scored\", \"value\": 1}, {\"Venue\": \"Away\", \"variable\": \"Scored\", \"value\": 1}, {\"Venue\": \"Away\", \"variable\": \"Scored\", \"value\": 0}, {\"Venue\": \"Home\", \"variable\": \"Scored\", \"value\": 1}, {\"Venue\": \"Away\", \"variable\": \"Scored\", \"value\": 1}, {\"Venue\": \"Home\", \"variable\": \"Scored\", \"value\": 0}, {\"Venue\": \"Away\", \"variable\": \"Scored\", \"value\": 1}, {\"Venue\": \"Away\", \"variable\": \"Scored\", \"value\": 0}, {\"Venue\": \"Home\", \"variable\": \"Scored\", \"value\": 3}, {\"Venue\": \"Home\", \"variable\": \"Scored\", \"value\": 1}, {\"Venue\": \"Away\", \"variable\": \"Scored\", \"value\": 1}, {\"Venue\": \"Home\", \"variable\": \"Allowed\", \"value\": 0}, {\"Venue\": \"Home\", \"variable\": \"Allowed\", \"value\": 0}, {\"Venue\": \"Away\", \"variable\": \"Allowed\", \"value\": 5}, {\"Venue\": \"Away\", \"variable\": \"Allowed\", \"value\": 3}, {\"Venue\": \"Home\", \"variable\": \"Allowed\", \"value\": 0}, {\"Venue\": \"Home\", \"variable\": \"Allowed\", \"value\": 2}, {\"Venue\": \"Away\", \"variable\": \"Allowed\", \"value\": 0}, {\"Venue\": \"Home\", \"variable\": \"Allowed\", \"value\": 2}, {\"Venue\": \"Away\", \"variable\": \"Allowed\", \"value\": 1}, {\"Venue\": \"Home\", \"variable\": \"Allowed\", \"value\": 2}, {\"Venue\": \"Away\", \"variable\": \"Allowed\", \"value\": 2}, {\"Venue\": \"Home\", \"variable\": \"Allowed\", \"value\": 1}, {\"Venue\": \"Away\", \"variable\": \"Allowed\", \"value\": 1}, {\"Venue\": \"Home\", \"variable\": \"Allowed\", \"value\": 1}, {\"Venue\": \"Away\", \"variable\": \"Allowed\", \"value\": 2}, {\"Venue\": \"Away\", \"variable\": \"Allowed\", \"value\": 1}, {\"Venue\": \"Home\", \"variable\": \"Allowed\", \"value\": 1}, {\"Venue\": \"Away\", \"variable\": \"Allowed\", \"value\": 3}, {\"Venue\": \"Home\", \"variable\": \"Allowed\", \"value\": 4}, {\"Venue\": \"Away\", \"variable\": \"Allowed\", \"value\": 3}, {\"Venue\": \"Away\", \"variable\": \"Allowed\", \"value\": 3}, {\"Venue\": \"Home\", \"variable\": \"Allowed\", \"value\": 1}, {\"Venue\": \"Home\", \"variable\": \"Allowed\", \"value\": 1}, {\"Venue\": \"Away\", \"variable\": \"Allowed\", \"value\": 1}]}}, {\"mode\": \"vega-lite\"});\n",
       "</script>"
      ],
      "text/plain": [
       "alt.Chart(...)"
      ]
     },
     "execution_count": 142,
     "metadata": {},
     "output_type": "execute_result"
    }
   ],
   "source": [
    "alt.Chart(goals_df).mark_bar().encode(\n",
    "    y = alt.Y('variable', axis = alt.Axis(title = \"\")),\n",
    "    x = alt.X('mean(value)', axis = alt.Axis(title = \"Goals Per Game\")),\n",
    "    color = 'variable',\n",
    "    column = 'Venue'\n",
    ").properties(\n",
    "    title = \"Racing Louisville Goals Scored and Allowed by Home/Away\"\n",
    ")"
   ]
  },
  {
   "cell_type": "code",
   "execution_count": 117,
   "metadata": {},
   "outputs": [
    {
     "data": {
      "text/plain": [
       "Venue  Result\n",
       "Away   D         3\n",
       "       L         8\n",
       "       W         1\n",
       "Home   D         4\n",
       "       L         4\n",
       "       W         4\n",
       "Name: Date, dtype: int64"
      ]
     },
     "execution_count": 117,
     "metadata": {},
     "output_type": "execute_result"
    }
   ],
   "source": [
    "df2.groupby(['Venue', 'Result'])['Date'].count()"
   ]
  },
  {
   "cell_type": "code",
   "execution_count": 108,
   "metadata": {},
   "outputs": [
    {
     "data": {
      "text/html": [
       "\n",
       "<div id=\"altair-viz-9f88e8168aac48719246d1e274209082\"></div>\n",
       "<script type=\"text/javascript\">\n",
       "  (function(spec, embedOpt){\n",
       "    let outputDiv = document.currentScript.previousElementSibling;\n",
       "    if (outputDiv.id !== \"altair-viz-9f88e8168aac48719246d1e274209082\") {\n",
       "      outputDiv = document.getElementById(\"altair-viz-9f88e8168aac48719246d1e274209082\");\n",
       "    }\n",
       "    const paths = {\n",
       "      \"vega\": \"https://cdn.jsdelivr.net/npm//vega@5?noext\",\n",
       "      \"vega-lib\": \"https://cdn.jsdelivr.net/npm//vega-lib?noext\",\n",
       "      \"vega-lite\": \"https://cdn.jsdelivr.net/npm//vega-lite@4.8.1?noext\",\n",
       "      \"vega-embed\": \"https://cdn.jsdelivr.net/npm//vega-embed@6?noext\",\n",
       "    };\n",
       "\n",
       "    function loadScript(lib) {\n",
       "      return new Promise(function(resolve, reject) {\n",
       "        var s = document.createElement('script');\n",
       "        s.src = paths[lib];\n",
       "        s.async = true;\n",
       "        s.onload = () => resolve(paths[lib]);\n",
       "        s.onerror = () => reject(`Error loading script: ${paths[lib]}`);\n",
       "        document.getElementsByTagName(\"head\")[0].appendChild(s);\n",
       "      });\n",
       "    }\n",
       "\n",
       "    function showError(err) {\n",
       "      outputDiv.innerHTML = `<div class=\"error\" style=\"color:red;\">${err}</div>`;\n",
       "      throw err;\n",
       "    }\n",
       "\n",
       "    function displayChart(vegaEmbed) {\n",
       "      vegaEmbed(outputDiv, spec, embedOpt)\n",
       "        .catch(err => showError(`Javascript Error: ${err.message}<br>This usually means there's a typo in your chart specification. See the javascript console for the full traceback.`));\n",
       "    }\n",
       "\n",
       "    if(typeof define === \"function\" && define.amd) {\n",
       "      requirejs.config({paths});\n",
       "      require([\"vega-embed\"], displayChart, err => showError(`Error loading script: ${err.message}`));\n",
       "    } else if (typeof vegaEmbed === \"function\") {\n",
       "      displayChart(vegaEmbed);\n",
       "    } else {\n",
       "      loadScript(\"vega\")\n",
       "        .then(() => loadScript(\"vega-lite\"))\n",
       "        .then(() => loadScript(\"vega-embed\"))\n",
       "        .catch(showError)\n",
       "        .then(() => displayChart(vegaEmbed));\n",
       "    }\n",
       "  })({\"config\": {\"view\": {\"continuousWidth\": 400, \"continuousHeight\": 300}}, \"layer\": [{\"mark\": \"point\", \"encoding\": {\"x\": {\"type\": \"nominal\", \"field\": \"Date\"}, \"y\": {\"type\": \"quantitative\", \"field\": \"GF\"}}}, {\"mark\": \"line\", \"encoding\": {\"x\": {\"type\": \"nominal\", \"field\": \"Date\"}, \"y\": {\"type\": \"quantitative\", \"field\": \"GF\"}}, \"transform\": [{\"window\": [{\"op\": \"mean\", \"field\": \"GF\", \"as\": \"rolling_mean\"}], \"frame\": [-15, 15]}]}], \"data\": {\"name\": \"data-155f835296949dfbb35af1026f290565\"}, \"$schema\": \"https://vega.github.io/schema/vega-lite/v4.8.1.json\", \"datasets\": {\"data-155f835296949dfbb35af1026f290565\": [{\"Date\": \"2021-04-10\", \"Time\": \"19:00\", \"Comp\": \"NWSL Challenge Cup\", \"Round\": \"Group stage\", \"Day\": \"Sat\", \"Venue\": \"Home\", \"Result\": \"D\", \"GF\": 2, \"GA\": 2, \"Opponent\": \"Pride\", \"xG\": 1.5, \"xGA\": 0.7, \"Poss\": 50, \"Attendance\": 5300.0, \"Captain\": \"Michelle Betos\", \"Formation\": \"4-4-2002\", \"Referee\": \"Katja Koroleva\", \"Match Report\": \"Match Report\", \"Notes\": null}, {\"Date\": \"2021-04-15\", \"Time\": \"19:00\", \"Comp\": \"NWSL Challenge Cup\", \"Round\": \"Group stage\", \"Day\": \"Thu\", \"Venue\": \"Away\", \"Result\": \"L\", \"GF\": 0, \"GA\": 1, \"Opponent\": \"Spirit\", \"xG\": 1.5, \"xGA\": 1.2, \"Poss\": 43, \"Attendance\": null, \"Captain\": \"Michelle Betos\", \"Formation\": \"4-2-3-1\", \"Referee\": \"Danielle Chesky\", \"Match Report\": \"Match Report\", \"Notes\": null}, {\"Date\": \"2021-04-26\", \"Time\": \"18:00\", \"Comp\": \"NWSL Challenge Cup\", \"Round\": \"Group stage\", \"Day\": \"Mon\", \"Venue\": \"Home\", \"Result\": \"L\", \"GF\": 2, \"GA\": 3, \"Opponent\": \"Courage\", \"xG\": 0.9, \"xGA\": 1.6, \"Poss\": 47, \"Attendance\": 3742.0, \"Captain\": \"Michelle Betos\", \"Formation\": \"4-2-3-1\", \"Referee\": \"Tori Penso\", \"Match Report\": \"Match Report\", \"Notes\": null}, {\"Date\": \"2021-05-02\", \"Time\": \"12:30\", \"Comp\": \"NWSL Challenge Cup\", \"Round\": \"Group stage\", \"Day\": \"Sun\", \"Venue\": \"Away\", \"Result\": \"D\", \"GF\": 0, \"GA\": 0, \"Opponent\": \"Gotham FC\", \"xG\": 0.6, \"xGA\": 1.1, \"Poss\": 45, \"Attendance\": null, \"Captain\": \"Michelle Betos\", \"Formation\": \"4-2-3-1\", \"Referee\": \"Karen Abt\", \"Match Report\": \"Match Report\", \"Notes\": null}, {\"Date\": \"2021-05-15\", \"Time\": \"17:00\", \"Comp\": \"NWSL\", \"Round\": \"Regular Season\", \"Day\": \"Sat\", \"Venue\": \"Home\", \"Result\": \"D\", \"GF\": 0, \"GA\": 0, \"Opponent\": \"Kansas City\", \"xG\": null, \"xGA\": null, \"Poss\": 51, \"Attendance\": 6622.0, \"Captain\": \"Michelle Betos\", \"Formation\": \"4-2-3-1\", \"Referee\": \"Adorae Monroy\", \"Match Report\": \"Match Report\", \"Notes\": null}, {\"Date\": \"2021-05-21\", \"Time\": \"19:30\", \"Comp\": \"NWSL\", \"Round\": \"Regular Season\", \"Day\": \"Fri\", \"Venue\": \"Home\", \"Result\": \"W\", \"GF\": 2, \"GA\": 0, \"Opponent\": \"Spirit\", \"xG\": null, \"xGA\": null, \"Poss\": 40, \"Attendance\": 6011.0, \"Captain\": \"Michelle Betos\", \"Formation\": \"4-2-3-1\", \"Referee\": \"Katja Koroleva\", \"Match Report\": \"Match Report\", \"Notes\": null}, {\"Date\": \"2021-05-28\", \"Time\": \"19:00\", \"Comp\": \"NWSL\", \"Round\": \"Regular Season\", \"Day\": \"Fri\", \"Venue\": \"Away\", \"Result\": \"L\", \"GF\": 0, \"GA\": 5, \"Opponent\": \"Courage\", \"xG\": null, \"xGA\": null, \"Poss\": 40, \"Attendance\": 3902.0, \"Captain\": \"Michelle Betos\", \"Formation\": \"4-2-3-1\", \"Referee\": \"Matthew Franz\", \"Match Report\": \"Match Report\", \"Notes\": null}, {\"Date\": \"2021-06-05\", \"Time\": \"19:30 (22:30)\", \"Comp\": \"NWSL\", \"Round\": \"Regular Season\", \"Day\": \"Sat\", \"Venue\": \"Away\", \"Result\": \"L\", \"GF\": 0, \"GA\": 3, \"Opponent\": \"Thorns\", \"xG\": null, \"xGA\": null, \"Poss\": 41, \"Attendance\": null, \"Captain\": \"Michelle Betos\", \"Formation\": \"4-2-3-1\", \"Referee\": \"Samantha Martinez\", \"Match Report\": \"Match Report\", \"Notes\": null}, {\"Date\": \"2021-06-20\", \"Time\": \"15:00\", \"Comp\": \"NWSL\", \"Round\": \"Regular Season\", \"Day\": \"Sun\", \"Venue\": \"Home\", \"Result\": \"W\", \"GF\": 1, \"GA\": 0, \"Opponent\": \"Dash\", \"xG\": null, \"xGA\": null, \"Poss\": 49, \"Attendance\": 5971.0, \"Captain\": \"Michelle Betos\", \"Formation\": \"4-2-3-1\", \"Referee\": \"Laura Rodriguez\", \"Match Report\": \"Match Report\", \"Notes\": null}, {\"Date\": \"2021-06-23\", \"Time\": \"19:30\", \"Comp\": \"NWSL\", \"Round\": \"Regular Season\", \"Day\": \"Wed\", \"Venue\": \"Home\", \"Result\": \"L\", \"GF\": 0, \"GA\": 2, \"Opponent\": \"Courage\", \"xG\": null, \"xGA\": null, \"Poss\": 37, \"Attendance\": 6334.0, \"Captain\": \"Michelle Betos\", \"Formation\": \"4-3-2003\", \"Referee\": \"Alyssa Nichols\", \"Match Report\": \"Match Report\", \"Notes\": null}, {\"Date\": \"2021-06-26\", \"Time\": \"15:25 (16:25)\", \"Comp\": \"NWSL\", \"Round\": \"Regular Season\", \"Day\": \"Sat\", \"Venue\": \"Away\", \"Result\": \"W\", \"GF\": 3, \"GA\": 0, \"Opponent\": \"Red Stars\", \"xG\": null, \"xGA\": null, \"Poss\": 50, \"Attendance\": 2626.0, \"Captain\": \"Michelle Betos\", \"Formation\": \"4-2-3-1\", \"Referee\": \"Greg Dopka\", \"Match Report\": \"Match Report\", \"Notes\": null}, {\"Date\": \"2021-07-03\", \"Time\": \"19:30\", \"Comp\": \"NWSL\", \"Round\": \"Regular Season\", \"Day\": \"Sat\", \"Venue\": \"Home\", \"Result\": \"L\", \"GF\": 0, \"GA\": 2, \"Opponent\": \"Thorns\", \"xG\": null, \"xGA\": null, \"Poss\": 44, \"Attendance\": 6822.0, \"Captain\": \"Michelle Betos\", \"Formation\": \"4-2-3-1\", \"Referee\": \"Karen Callado\", \"Match Report\": \"Match Report\", \"Notes\": null}, {\"Date\": \"2021-07-09\", \"Time\": \"19:00\", \"Comp\": \"NWSL\", \"Round\": \"Regular Season\", \"Day\": \"Fri\", \"Venue\": \"Away\", \"Result\": \"D\", \"GF\": 1, \"GA\": 1, \"Opponent\": \"Pride\", \"xG\": null, \"xGA\": null, \"Poss\": 51, \"Attendance\": 3606.0, \"Captain\": \"Michelle Betos\", \"Formation\": \"4-2-3-1\", \"Referee\": \"Natalie Simon\", \"Match Report\": \"Match Report\", \"Notes\": null}, {\"Date\": \"2021-07-25\", \"Time\": \"19:30\", \"Comp\": \"NWSL\", \"Round\": \"Regular Season\", \"Day\": \"Sun\", \"Venue\": \"Home\", \"Result\": \"L\", \"GF\": 0, \"GA\": 2, \"Opponent\": \"Spirit\", \"xG\": null, \"xGA\": null, \"Poss\": 57, \"Attendance\": 6422.0, \"Captain\": \"Michelle Betos\", \"Formation\": \"4-3-2003\", \"Referee\": \"Samantha Martinez\", \"Match Report\": \"Match Report\", \"Notes\": null}, {\"Date\": \"2021-07-31\", \"Time\": \"19:00 (22:00)\", \"Comp\": \"NWSL\", \"Round\": \"Regular Season\", \"Day\": \"Sat\", \"Venue\": \"Away\", \"Result\": \"L\", \"GF\": 0, \"GA\": 2, \"Opponent\": \"Reign\", \"xG\": null, \"xGA\": null, \"Poss\": 51, \"Attendance\": 3097.0, \"Captain\": \"Michelle Betos\", \"Formation\": \"4-2-3-1\", \"Referee\": \"Laura Rodriguez\", \"Match Report\": \"Match Report\", \"Notes\": null}, {\"Date\": \"2021-08-08\", \"Time\": \"15:00\", \"Comp\": \"NWSL\", \"Round\": \"Regular Season\", \"Day\": \"Sun\", \"Venue\": \"Home\", \"Result\": \"W\", \"GF\": 3, \"GA\": 1, \"Opponent\": \"Kansas City\", \"xG\": null, \"xGA\": null, \"Poss\": 53, \"Attendance\": 5843.0, \"Captain\": \"Michelle Betos\", \"Formation\": \"4-2-3-1\", \"Referee\": \"Danielle Chesky\", \"Match Report\": \"Match Report\", \"Notes\": null}, {\"Date\": \"2021-08-15\", \"Time\": \"17:00\", \"Comp\": \"NWSL\", \"Round\": \"Regular Season\", \"Day\": \"Sun\", \"Venue\": \"Away\", \"Result\": \"D\", \"GF\": 1, \"GA\": 1, \"Opponent\": \"Gotham FC\", \"xG\": null, \"xGA\": null, \"Poss\": 43, \"Attendance\": 2200.0, \"Captain\": \"Michelle Betos\", \"Formation\": \"4-3-2003\", \"Referee\": \"Brad Jensen\", \"Match Report\": \"Match Report\", \"Notes\": null}, {\"Date\": \"2021-08-18\", \"Time\": \"19:30\", \"Comp\": \"NWSL\", \"Round\": \"Regular Season\", \"Day\": \"Wed\", \"Venue\": \"Home\", \"Result\": \"D\", \"GF\": 1, \"GA\": 1, \"Opponent\": \"Red Stars\", \"xG\": null, \"xGA\": null, \"Poss\": 62, \"Attendance\": 7310.0, \"Captain\": \"Michelle Betos\", \"Formation\": \"4-2-3-1\", \"Referee\": \"Karen Abt\", \"Match Report\": \"Match Report\", \"Notes\": null}, {\"Date\": \"2021-08-25\", \"Time\": \"19:00 (20:00)\", \"Comp\": \"NWSL\", \"Round\": \"Regular Season\", \"Day\": \"Wed\", \"Venue\": \"Away\", \"Result\": \"L\", \"GF\": 1, \"GA\": 2, \"Opponent\": \"Kansas City\", \"xG\": null, \"xGA\": null, \"Poss\": 62, \"Attendance\": 3997.0, \"Captain\": \"Michelle Betos\", \"Formation\": \"4-4-2\\u25c6\", \"Referee\": \"Michael Radchuk\", \"Match Report\": \"Match Report\", \"Notes\": null}, {\"Date\": \"2021-08-29\", \"Time\": \"18:30 (19:30)\", \"Comp\": \"NWSL\", \"Round\": \"Regular Season\", \"Day\": \"Sun\", \"Venue\": \"Away\", \"Result\": \"L\", \"GF\": 0, \"GA\": 1, \"Opponent\": \"Dash\", \"xG\": null, \"xGA\": null, \"Poss\": 51, \"Attendance\": 3292.0, \"Captain\": \"Michelle Betos\", \"Formation\": \"4-2-3-1\", \"Referee\": \"Alex Billeter\", \"Match Report\": \"Match Report\", \"Notes\": null}, {\"Date\": \"2021-09-04\", \"Time\": \"19:30\", \"Comp\": \"NWSL\", \"Round\": \"Regular Season\", \"Day\": \"Sat\", \"Venue\": \"Home\", \"Result\": \"D\", \"GF\": 1, \"GA\": 1, \"Opponent\": \"Reign\", \"xG\": null, \"xGA\": null, \"Poss\": 38, \"Attendance\": null, \"Captain\": \"Michelle Betos\", \"Formation\": \"4-4-2002\", \"Referee\": \"Tori Penso\", \"Match Report\": \"Match Report\", \"Notes\": null}, {\"Date\": \"2021-09-11\", \"Time\": \"19:00\", \"Comp\": \"NWSL\", \"Round\": \"Regular Season\", \"Day\": \"Sat\", \"Venue\": \"Away\", \"Result\": \"L\", \"GF\": 1, \"GA\": 3, \"Opponent\": \"Pride\", \"xG\": null, \"xGA\": null, \"Poss\": 50, \"Attendance\": 3822.0, \"Captain\": \"Michelle Betos\", \"Formation\": \"4-4-2\\u25c6\", \"Referee\": \"Elton Garcia\", \"Match Report\": \"Match Report\", \"Notes\": null}, {\"Date\": \"2021-09-26\", \"Time\": \"15:00\", \"Comp\": \"NWSL\", \"Round\": \"Regular Season\", \"Day\": \"Sun\", \"Venue\": \"Home\", \"Result\": \"L\", \"GF\": 0, \"GA\": 4, \"Opponent\": \"Dash\", \"xG\": null, \"xGA\": null, \"Poss\": 46, \"Attendance\": 6374.0, \"Captain\": \"Michelle Betos\", \"Formation\": \"4-4-2\\u25c6\", \"Referee\": \"Matthew Thompson\", \"Match Report\": \"Match Report\", \"Notes\": null}, {\"Date\": \"2021-10-06\", \"Time\": \"19:30\", \"Comp\": \"NWSL\", \"Round\": \"Regular Season\", \"Day\": \"Wed\", \"Venue\": \"Away\", \"Result\": \"L\", \"GF\": 1, \"GA\": 3, \"Opponent\": \"Courage\", \"xG\": null, \"xGA\": null, \"Poss\": 30, \"Attendance\": 3523.0, \"Captain\": \"Savannah McCaskill\", \"Formation\": \"4-4-2002\", \"Referee\": \"Alyssa Nichols\", \"Match Report\": \"Match Report\", \"Notes\": null}, {\"Date\": \"2021-10-09\", \"Time\": \"19:30\", \"Comp\": \"NWSL\", \"Round\": \"Regular Season\", \"Day\": \"Sat\", \"Venue\": \"Away\", \"Result\": \"L\", \"GF\": 0, \"GA\": 3, \"Opponent\": \"Spirit\", \"xG\": null, \"xGA\": null, \"Poss\": 42, \"Attendance\": null, \"Captain\": \"Michelle Betos\", \"Formation\": \"4-4-2002\", \"Referee\": \"Laura Rodriguez\", \"Match Report\": \"Match Report\", \"Notes\": null}, {\"Date\": \"2021-10-16\", \"Time\": \"19:30\", \"Comp\": \"NWSL\", \"Round\": \"Regular Season\", \"Day\": \"Sat\", \"Venue\": \"Home\", \"Result\": \"W\", \"GF\": 3, \"GA\": 1, \"Opponent\": \"Pride\", \"xG\": null, \"xGA\": null, \"Poss\": 42, \"Attendance\": 8488.0, \"Captain\": \"Y\\u016bki Nagasato\", \"Formation\": \"4-2-3-1\", \"Referee\": \"Matthew Franz\", \"Match Report\": \"Match Report\", \"Notes\": null}, {\"Date\": \"2021-10-28\", \"Time\": \"19:30\", \"Comp\": \"NWSL\", \"Round\": \"Regular Season\", \"Day\": \"Thu\", \"Venue\": \"Home\", \"Result\": \"D\", \"GF\": 1, \"GA\": 1, \"Opponent\": \"Gotham FC\", \"xG\": null, \"xGA\": null, \"Poss\": 45, \"Attendance\": 6508.0, \"Captain\": \"Y\\u016bki Nagasato\", \"Formation\": \"4-2-3-1\", \"Referee\": \"Samantha Martinez\", \"Match Report\": \"Match Report\", \"Notes\": null}, {\"Date\": \"2021-10-31\", \"Time\": \"15:00\", \"Comp\": \"NWSL\", \"Round\": \"Regular Season\", \"Day\": \"Sun\", \"Venue\": \"Away\", \"Result\": \"D\", \"GF\": 1, \"GA\": 1, \"Opponent\": \"Gotham FC\", \"xG\": null, \"xGA\": null, \"Poss\": 37, \"Attendance\": 6362.0, \"Captain\": \"Y\\u016bki Nagasato\", \"Formation\": \"4-2-3-1\", \"Referee\": \"Karen Abt\", \"Match Report\": \"Match Report\", \"Notes\": null}]}}, {\"mode\": \"vega-lite\"});\n",
       "</script>"
      ],
      "text/plain": [
       "alt.LayerChart(...)"
      ]
     },
     "execution_count": 108,
     "metadata": {},
     "output_type": "execute_result"
    }
   ],
   "source": [
    "line = alt.Chart(df2).mark_line().transform_window(\n",
    "    rolling_mean = 'mean(GF)',\n",
    "    frame = [-15, 15]\n",
    "    ).encode(\n",
    "    x = 'Date',\n",
    "    y = 'GF'\n",
    ")\n",
    "\n",
    "points = alt.Chart(df2).mark_point().encode(\n",
    "    x = 'Date',\n",
    "    y = 'GF'\n",
    ")\n",
    "\n",
    "points + line"
   ]
  },
  {
   "cell_type": "code",
   "execution_count": 103,
   "metadata": {},
   "outputs": [
    {
     "data": {
      "text/html": [
       "\n",
       "<div id=\"altair-viz-3d04676b5dac40158a72875d02b5e088\"></div>\n",
       "<script type=\"text/javascript\">\n",
       "  (function(spec, embedOpt){\n",
       "    let outputDiv = document.currentScript.previousElementSibling;\n",
       "    if (outputDiv.id !== \"altair-viz-3d04676b5dac40158a72875d02b5e088\") {\n",
       "      outputDiv = document.getElementById(\"altair-viz-3d04676b5dac40158a72875d02b5e088\");\n",
       "    }\n",
       "    const paths = {\n",
       "      \"vega\": \"https://cdn.jsdelivr.net/npm//vega@5?noext\",\n",
       "      \"vega-lib\": \"https://cdn.jsdelivr.net/npm//vega-lib?noext\",\n",
       "      \"vega-lite\": \"https://cdn.jsdelivr.net/npm//vega-lite@4.8.1?noext\",\n",
       "      \"vega-embed\": \"https://cdn.jsdelivr.net/npm//vega-embed@6?noext\",\n",
       "    };\n",
       "\n",
       "    function loadScript(lib) {\n",
       "      return new Promise(function(resolve, reject) {\n",
       "        var s = document.createElement('script');\n",
       "        s.src = paths[lib];\n",
       "        s.async = true;\n",
       "        s.onload = () => resolve(paths[lib]);\n",
       "        s.onerror = () => reject(`Error loading script: ${paths[lib]}`);\n",
       "        document.getElementsByTagName(\"head\")[0].appendChild(s);\n",
       "      });\n",
       "    }\n",
       "\n",
       "    function showError(err) {\n",
       "      outputDiv.innerHTML = `<div class=\"error\" style=\"color:red;\">${err}</div>`;\n",
       "      throw err;\n",
       "    }\n",
       "\n",
       "    function displayChart(vegaEmbed) {\n",
       "      vegaEmbed(outputDiv, spec, embedOpt)\n",
       "        .catch(err => showError(`Javascript Error: ${err.message}<br>This usually means there's a typo in your chart specification. See the javascript console for the full traceback.`));\n",
       "    }\n",
       "\n",
       "    if(typeof define === \"function\" && define.amd) {\n",
       "      requirejs.config({paths});\n",
       "      require([\"vega-embed\"], displayChart, err => showError(`Error loading script: ${err.message}`));\n",
       "    } else if (typeof vegaEmbed === \"function\") {\n",
       "      displayChart(vegaEmbed);\n",
       "    } else {\n",
       "      loadScript(\"vega\")\n",
       "        .then(() => loadScript(\"vega-lite\"))\n",
       "        .then(() => loadScript(\"vega-embed\"))\n",
       "        .catch(showError)\n",
       "        .then(() => displayChart(vegaEmbed));\n",
       "    }\n",
       "  })({\"config\": {\"view\": {\"continuousWidth\": 400, \"continuousHeight\": 300}}, \"layer\": [{\"mark\": \"point\", \"encoding\": {\"x\": {\"type\": \"quantitative\", \"field\": \"x\"}, \"y\": {\"type\": \"quantitative\", \"field\": \"y\"}}}, {\"mark\": \"line\", \"encoding\": {\"x\": {\"type\": \"quantitative\", \"field\": \"x\"}, \"y\": {\"type\": \"quantitative\", \"field\": \"y\"}}, \"transform\": [{\"loess\": \"y\", \"on\": \"x\"}]}], \"data\": {\"name\": \"data-648e488ea776dcbaf68179d1cf730812\"}, \"$schema\": \"https://vega.github.io/schema/vega-lite/v4.8.1.json\", \"datasets\": {\"data-648e488ea776dcbaf68179d1cf730812\": [{\"x\": 0, \"y\": 0.4967141530112327}, {\"x\": 1, \"y\": 0.358449851840048}, {\"x\": 2, \"y\": 1.0061383899407406}, {\"x\": 3, \"y\": 2.5291682463487657}, {\"x\": 4, \"y\": 2.2950148716254297}, {\"x\": 5, \"y\": 2.060877914676249}, {\"x\": 6, \"y\": 3.6400907301836405}, {\"x\": 7, \"y\": 4.407525459336549}, {\"x\": 8, \"y\": 3.938051073401597}, {\"x\": 9, \"y\": 4.4806111169875615}, {\"x\": 10, \"y\": 4.017193424175099}, {\"x\": 11, \"y\": 3.5514636706048424}, {\"x\": 12, \"y\": 3.7934259421708765}, {\"x\": 13, \"y\": 1.8801456975130786}, {\"x\": 14, \"y\": 0.15522786500004582}, {\"x\": 15, \"y\": -0.4070596642409269}, {\"x\": 16, \"y\": -1.4198907845753506}, {\"x\": 17, \"y\": -1.1056434519800766}, {\"x\": 18, \"y\": -2.0136675275012874}, {\"x\": 19, \"y\": -3.4259712288365787}, {\"x\": 20, \"y\": -1.9603224599150246}, {\"x\": 21, \"y\": -2.1860987604015603}, {\"x\": 22, \"y\": -2.1185705557136365}, {\"x\": 23, \"y\": -3.5433187419270933}, {\"x\": 24, \"y\": -4.087701466452276}, {\"x\": 25, \"y\": -3.9767788767424097}, {\"x\": 26, \"y\": -5.127772454164712}, {\"x\": 27, \"y\": -4.75207443581904}, {\"x\": 28, \"y\": -5.352713125737845}, {\"x\": 29, \"y\": -5.644406875531121}, {\"x\": 30, \"y\": -6.2461134877605184}, {\"x\": 31, \"y\": -4.3938353032515804}, {\"x\": 32, \"y\": -4.407332527989515}, {\"x\": 33, \"y\": -5.4650434569454145}, {\"x\": 34, \"y\": -4.642498544842225}, {\"x\": 35, \"y\": -5.863342194813248}, {\"x\": 36, \"y\": -5.654478599808492}, {\"x\": 37, \"y\": -7.614148723688268}, {\"x\": 38, \"y\": -8.942334772586698}, {\"x\": 39, \"y\": -8.745473536717574}, {\"x\": 40, \"y\": -8.007006956722163}, {\"x\": 41, \"y\": -7.835638675532193}, {\"x\": 42, \"y\": -7.951286957920433}, {\"x\": 43, \"y\": -8.252390653509723}, {\"x\": 44, \"y\": -9.73091264387715}, {\"x\": 45, \"y\": -10.450756852271859}, {\"x\": 46, \"y\": -10.911395623231646}, {\"x\": 47, \"y\": -9.854273397012731}, {\"x\": 48, \"y\": -9.51065510744427}, {\"x\": 49, \"y\": -11.273695262807005}, {\"x\": 50, \"y\": -10.94961129341221}, {\"x\": 51, \"y\": -11.334693573828526}, {\"x\": 52, \"y\": -12.011615574134485}, {\"x\": 53, \"y\": -11.399939285293616}, {\"x\": 54, \"y\": -10.368939762797666}, {\"x\": 55, \"y\": -9.437659643681467}, {\"x\": 56, \"y\": -10.276877166904105}, {\"x\": 57, \"y\": -10.58608954275532}, {\"x\": 58, \"y\": -10.254826111351756}, {\"x\": 59, \"y\": -9.279280984229397}, {\"x\": 60, \"y\": -9.758455222074687}, {\"x\": 61, \"y\": -9.944114198738504}, {\"x\": 62, \"y\": -11.050449172744532}, {\"x\": 63, \"y\": -12.246655796825202}, {\"x\": 64, \"y\": -11.434129974431004}, {\"x\": 65, \"y\": -10.07788994586018}, {\"x\": 66, \"y\": -10.149900067440514}, {\"x\": 67, \"y\": -9.14636716954849}, {\"x\": 68, \"y\": -8.784731144500856}, {\"x\": 69, \"y\": -9.42985089910598}, {\"x\": 70, \"y\": -9.068455293597568}, {\"x\": 71, \"y\": -7.5304187271315985}, {\"x\": 72, \"y\": -7.56624476624155}, {\"x\": 73, \"y\": -6.001601110427544}, {\"x\": 74, \"y\": -8.621346214517288}, {\"x\": 75, \"y\": -7.799443710142064}, {\"x\": 76, \"y\": -7.712396641903893}, {\"x\": 77, \"y\": -8.011403992369761}, {\"x\": 78, \"y\": -7.919643215834259}, {\"x\": 79, \"y\": -9.907212130435152}, {\"x\": 80, \"y\": -10.126884018272664}, {\"x\": 81, \"y\": -9.769771446760917}, {\"x\": 82, \"y\": -8.2918774020194}, {\"x\": 83, \"y\": -8.810147620293048}, {\"x\": 84, \"y\": -9.618641223186236}, {\"x\": 85, \"y\": -10.120398266770772}, {\"x\": 86, \"y\": -9.204996149068698}, {\"x\": 87, \"y\": -8.876245039409014}, {\"x\": 88, \"y\": -9.406005243176052}, {\"x\": 89, \"y\": -8.892737810062696}, {\"x\": 90, \"y\": -8.795660260714657}, {\"x\": 91, \"y\": -7.827015270181768}, {\"x\": 92, \"y\": -8.529068364059121}, {\"x\": 93, \"y\": -8.85673051065689}, {\"x\": 94, \"y\": -9.248838663789048}, {\"x\": 95, \"y\": -10.712353611921166}, {\"x\": 96, \"y\": -10.41623333485659}, {\"x\": 97, \"y\": -10.1551780626767}, {\"x\": 98, \"y\": -10.15006460603424}, {\"x\": 99, \"y\": -10.384651739409387}]}}, {\"mode\": \"vega-lite\"});\n",
       "</script>"
      ],
      "text/plain": [
       "alt.LayerChart(...)"
      ]
     },
     "execution_count": 103,
     "metadata": {},
     "output_type": "execute_result"
    }
   ],
   "source": [
    "np.random.seed(42)\n",
    "\n",
    "df = pd.DataFrame({\n",
    "    'x': range(100),\n",
    "    'y': np.random.randn(100).cumsum()\n",
    "})\n",
    "\n",
    "chart = alt.Chart(df).mark_point().encode(\n",
    "    x='x',\n",
    "    y='y'\n",
    ")\n",
    "\n",
    "chart + chart.transform_loess('x', 'y').mark_line()"
   ]
  }
 ],
 "metadata": {
  "interpreter": {
   "hash": "86f5ef522cc6a64fe6d8376eb2842e72ce6f1cc256a2a6f229128f19497a5f52"
  },
  "kernelspec": {
   "display_name": "Python 3.9.7 ('nwsl')",
   "language": "python",
   "name": "python3"
  },
  "language_info": {
   "codemirror_mode": {
    "name": "ipython",
    "version": 3
   },
   "file_extension": ".py",
   "mimetype": "text/x-python",
   "name": "python",
   "nbconvert_exporter": "python",
   "pygments_lexer": "ipython3",
   "version": "3.9.7"
  },
  "orig_nbformat": 4
 },
 "nbformat": 4,
 "nbformat_minor": 2
}
